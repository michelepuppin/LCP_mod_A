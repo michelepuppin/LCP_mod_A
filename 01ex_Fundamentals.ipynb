{
 "cells": [
  {
   "cell_type": "markdown",
   "metadata": {},
   "source": [
    "1\\. Write the following as a list comprehension"
   ]
  },
  {
   "cell_type": "code",
   "execution_count": 1,
   "metadata": {},
   "outputs": [
    {
     "name": "stdout",
     "output_type": "stream",
     "text": [
      "[(0, 0), (0, 1), (0, 2), (0, 3), (1, 0), (1, 1), (1, 2), (1, 3), (2, 0), (2, 1), (2, 2), (2, 3)]\n",
      "[0, 4, 16]\n"
     ]
    }
   ],
   "source": [
    "# 1\n",
    "ans = []\n",
    "for i in range(3):\n",
    "    for j in range(4):\n",
    "        ans.append((i, j))\n",
    "print (ans)\n",
    "\n",
    "# 2\n",
    "ans = map(lambda x: x*x, filter(lambda x: x%2 == 0, range(5)))\n",
    "print (list(ans))"
   ]
  },
  {
   "cell_type": "code",
   "execution_count": 2,
   "metadata": {},
   "outputs": [
    {
     "name": "stdout",
     "output_type": "stream",
     "text": [
      "[(0, 0), (0, 1), (0, 2), (0, 3), (1, 0), (1, 1), (1, 2), (1, 3), (2, 0), (2, 1), (2, 2), (2, 3)]\n",
      "[0, 4, 16]\n"
     ]
    }
   ],
   "source": [
    "# Ex. 1. \n",
    "\n",
    "# 1\n",
    "ans = [(i, j) for i in range(3) for j in range(4)] # List comprehension \n",
    "\n",
    "print(ans)\n",
    "\n",
    "# 2\n",
    "ans = [x for x in map(lambda x: x*x, filter(lambda x: x%2 == 0, range(5)))] # List comprehension \n",
    "\n",
    "print(ans)\n"
   ]
  },
  {
   "cell_type": "markdown",
   "metadata": {},
   "source": [
    "2\\. Convert the following function into a pure function with no global variables or side effects"
   ]
  },
  {
   "cell_type": "code",
   "execution_count": 3,
   "metadata": {},
   "outputs": [
    {
     "name": "stdout",
     "output_type": "stream",
     "text": [
      "[1, 2, 3, 0, 1, 2, 3, 4]\n",
      "[1, 2, 3, 0, 1, 2, 3, 4]\n"
     ]
    }
   ],
   "source": [
    "x = 5\n",
    "\n",
    "def f(alist): \n",
    "    for i in range(x):\n",
    "         alist.append(i)\n",
    "    return alist\n",
    "\n",
    "alist = [1,2,3]\n",
    "ans = f(alist)\n",
    "print (ans)\n",
    "print (alist) # alist has been changed!"
   ]
  },
  {
   "cell_type": "code",
   "execution_count": 4,
   "metadata": {},
   "outputs": [
    {
     "name": "stdout",
     "output_type": "stream",
     "text": [
      "[1, 2, 3, 0, 1, 2, 3, 4]\n",
      "[1, 2, 3]\n"
     ]
    }
   ],
   "source": [
    "# Ex. 2.\n",
    "\n",
    "x = 5\n",
    "def f(alist): # Defining the function\n",
    "    blist=[] # Coping in order to have no change in the input variale\n",
    "    for i in range(x):\n",
    "         blist.append(i)\n",
    "    return alist+blist\n",
    "\n",
    "alist = [1,2,3]\n",
    "ans = f(alist)\n",
    "print (ans)\n",
    "print (alist) # alist has not been changed"
   ]
  },
  {
   "cell_type": "markdown",
   "metadata": {},
   "source": [
    "3\\. Write a `decorator` hello that makes every wrapped function print “Hello!”, i.e. something like:\n",
    "\n",
    "```python\n",
    "@hello\n",
    "def square(x):\n",
    "    return x*x\n",
    "```\n",
    "\n"
   ]
  },
  {
   "cell_type": "code",
   "execution_count": 5,
   "metadata": {},
   "outputs": [
    {
     "name": "stdout",
     "output_type": "stream",
     "text": [
      "Hello!\n",
      "4\n"
     ]
    }
   ],
   "source": [
    "# Ex. 3. \n",
    "\n",
    "def hello(func): \n",
    "    def wrapper(x): # Defining the decorator\n",
    "        print(\"Hello!\")\n",
    "        y = func(x)\n",
    "        return(y)\n",
    "    return wrapper\n",
    "\n",
    "@hello # Appling the decorator to the function below\n",
    "def square(x): \n",
    "    return x*x\n",
    "\n",
    "print(square(2))"
   ]
  },
  {
   "cell_type": "markdown",
   "metadata": {},
   "source": [
    "4\\. Write the factorial function so that it a) does and b) does not use recursion."
   ]
  },
  {
   "cell_type": "code",
   "execution_count": 6,
   "metadata": {},
   "outputs": [
    {
     "name": "stdout",
     "output_type": "stream",
     "text": [
      "6\n",
      "6\n"
     ]
    }
   ],
   "source": [
    "# Ex. 4.\n",
    "\n",
    "#a)\n",
    "def factorial_recursive(n): \n",
    "    if n == 1 or n == 0:\n",
    "        return 1\n",
    "    else:\n",
    "        return n * factorial_recursive(n-1) # Recruisive way\n",
    "\n",
    "n = 3\n",
    "print(factorial_recursive(n))\n",
    "\n",
    "#b)\n",
    "\n",
    "def factorial(n):\n",
    "    a=n\n",
    "    if n>0:\n",
    "        while (n-1) != 0:\n",
    "            a *= (n-1)\n",
    "            n = (n-1)\n",
    "        return a # Return the computed factorial\n",
    "    elif n == 0:\n",
    "        return 1\n",
    "\n",
    "n = 3\n",
    "print(factorial(n))"
   ]
  },
  {
   "cell_type": "markdown",
   "metadata": {},
   "source": [
    "5\\. Use HOFs (zip in particular) to compute the weight of a circle, a disk and a sphere, assuming different radii and different densities:\n",
    "\n",
    "```python\n",
    "densities = {\"Al\":[0.5,1,2],\"Fe\":[3,4,5],\"Pb\": [15,20,30]}\n",
    "radii = [1,2,3]\n",
    "```\n",
    "\n",
    "where the entries of the dictionary's values are the linear, superficial and volumetric densities of the materials respectively.\n",
    "\n",
    "In particular define a list of three lambda functions using a comprehension that computes the circumference, the area and the volume for a given radius.\n"
   ]
  },
  {
   "cell_type": "code",
   "execution_count": 7,
   "metadata": {},
   "outputs": [
    {
     "name": "stdout",
     "output_type": "stream",
     "text": [
      "Type the name of the element Al\n",
      "Weight of the circle for values of radius equals to\n",
      "1 -> 3.141592653589793\n",
      "2 -> 6.283185307179586\n",
      "3 -> 9.42477796076938\n",
      "Weight of the disk for values of radius equals to\n",
      "1 -> 3.141592653589793\n",
      "2 -> 12.566370614359172\n",
      "3 -> 28.274333882308138\n",
      "Weight of the sphere for values of radius equals to\n",
      "1 -> 8.377580409572781\n",
      "2 -> 67.02064327658225\n",
      "3 -> 226.1946710584651\n"
     ]
    }
   ],
   "source": [
    "# Ex. 5.\n",
    "import math\n",
    "\n",
    "densities = {\"Al\":[0.5,1,2],\"Fe\":[3,4,5],\"Pb\": [15,20,30]}\n",
    "radii = [1,2,3]\n",
    "\n",
    "funcs = [lambda r,d: 2*math.pi*r*d, lambda r,d: math.pi*r*r*d, lambda r,d: 4*math.pi*r*r*r*d/3] # Defining lambda functions\n",
    "\n",
    "el = input(\"Type the name of the element \") # Taking the element as input: Al, Fe and Pb\n",
    "\n",
    "for i in range(len(funcs)):\n",
    "    if i==0: print(\"Weight of the circle for values of radius equals to\")\n",
    "    elif i==1: print(\"Weight of the disk for values of radius equals to\")\n",
    "    else: print(\"Weight of the sphere for values of radius equals to\")\n",
    "    d = densities[el][i]\n",
    "    for r in radii:\n",
    "        print (r, \"->\", funcs[i](r,d))"
   ]
  },
  {
   "cell_type": "markdown",
   "metadata": {},
   "source": [
    "6\\. Edit the class defintion to add an instance attribute of is_hungry = True to the Dog class. Then add a method called eat() which changes the value of is_hungry to False when called. Figure out the best way to feed each dog and then output “My dogs are hungry.” if all are hungry or “My dogs are not hungry.” if all are not hungry. The final output should look like this:\n",
    "\n",
    "`I have 3 dogs. \n",
    "Tom is 6. \n",
    "Fletcher is 7. \n",
    "Larry is 9. \n",
    "And they're all mammals, of course. \n",
    "My dogs are not hungry.\n",
    "`\n",
    "\n",
    "```python\n",
    "# Parent class\n",
    "class Dog:\n",
    "\n",
    "    # Class attribute\n",
    "    species = 'mammal'\n",
    "\n",
    "    # Initializer / Instance attributes\n",
    "    def __init__(self, name, age):\n",
    "        self.name = name\n",
    "        self.age = age\n",
    "\n",
    "    # instance method\n",
    "    def description(self):\n",
    "        return \"{} is {} years old\".format(self.name, self.age)\n",
    "\n",
    "    # instance method\n",
    "    def speak(self, sound):\n",
    "        return \"{} says {}\".format(self.name, sound)\n",
    "\n",
    "# Child class (inherits from Dog class)\n",
    "class RussellTerrier(Dog):\n",
    "    def run(self, speed):\n",
    "        return \"{} runs {}\".format(self.name, speed)\n",
    "\n",
    "# Child class (inherits from Dog class)\n",
    "class Bulldog(Dog):\n",
    "    def run(self, speed):\n",
    "        return \"{} runs {}\".format(self.name, speed)\n",
    "```"
   ]
  },
  {
   "cell_type": "code",
   "execution_count": 8,
   "metadata": {},
   "outputs": [
    {
     "name": "stdout",
     "output_type": "stream",
     "text": [
      "Tom is 6 .\n",
      "Fletcher is 7 .\n",
      "Larry is 9 .\n",
      "They are all mammal s of course.\n",
      "My dogs are not hungry\n",
      "My dogs are hungry\n"
     ]
    }
   ],
   "source": [
    "# Ex. 6.\n",
    "\n",
    "# Parent class\n",
    "class Dog:\n",
    "\n",
    "    # Class attribute\n",
    "    species = 'mammal'\n",
    "\n",
    "    # Initializer / Instance attributes\n",
    "    def __init__(self, name, age):\n",
    "        self.name = name\n",
    "        self.age = age\n",
    "        self.is_hungry = True\n",
    "\n",
    "    # Instance method\n",
    "    def description(self):\n",
    "        return \"{} is {} years old\".format(self.name, self.age)\n",
    "\n",
    "    # Instance method\n",
    "    def speak(self, sound):\n",
    "        return \"{} says {}\".format(self.name, sound)\n",
    "    \n",
    "    def eat(self):\n",
    "        self.is_hungry = False\n",
    "\n",
    "# Child class (inherits from Dog class)\n",
    "class RussellTerrier(Dog):\n",
    "    def run(self, speed):\n",
    "        return \"{} runs {}\".format(self.name, speed)\n",
    "\n",
    "# Child class (inherits from Dog class)\n",
    "class Bulldog(Dog):\n",
    "    def run(self, speed):\n",
    "        return \"{} runs {}\".format(self.name, speed)\n",
    "    \n",
    "# Using the class\n",
    "\n",
    "info = [Dog(\"Tom\", 6), Dog(\"Fletcher\", 7), Dog(\"Larry\", 9)] # Defining elements\n",
    "\n",
    "for i in range(len(info)): print(info[i].name, \"is\", info[i].age, \".\") \n",
    "print(\"They are all\", Dog.species, \"s of course.\")\n",
    "\n",
    "def hunger_state(info): # Defining hunger\n",
    "    hunger=[]\n",
    "    for i in range(len(info)):\n",
    "        if info[i].is_hungry==True:\n",
    "            hunger.append(1)\n",
    "        elif info[i].is_hungry==False:\n",
    "            hunger.append(0)\n",
    "    if sum(hunger)==len(info):\n",
    "        print(\"My dogs are not hungry\")\n",
    "    elif sum(hunger)==0:\n",
    "        print(\"My dogs are hungry\")\n",
    "    del hunger\n",
    "   \n",
    "hunger_state(info) \n",
    "\n",
    "def feed(info): # Feeding dogs\n",
    "    for i in range(len(info)):\n",
    "           Dog.eat(info[i])\n",
    "            \n",
    "feed(info)\n",
    "hunger_state(info)"
   ]
  }
 ],
 "metadata": {
  "kernelspec": {
   "display_name": "Python 3",
   "language": "python",
   "name": "python3"
  },
  "language_info": {
   "codemirror_mode": {
    "name": "ipython",
    "version": 3
   },
   "file_extension": ".py",
   "mimetype": "text/x-python",
   "name": "python",
   "nbconvert_exporter": "python",
   "pygments_lexer": "ipython3",
   "version": "3.7.4"
  }
 },
 "nbformat": 4,
 "nbformat_minor": 2
}
