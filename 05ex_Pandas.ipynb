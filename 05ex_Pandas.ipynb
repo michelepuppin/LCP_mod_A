{
 "cells": [
  {
   "cell_type": "markdown",
   "metadata": {},
   "source": [
    "## Pandas analysis\n",
    "\n",
    "In the following a series of exercises is proposed on a dataset containg timing information from a series of Time-to-Digital-Converters (TDC) implemented in a couple of FPGA's. Each measurement (i.e. each raw) consists of the address of the TDC providing the signal, 'FPGA' and 'TDC_Channel, and the timing information itself, 'ORBIT_CNT', 'BX_COUNTER' and 'TDC_MEAS'. Each TDC count correspond 25/30 ns, whereas the BX_COUNTER feauters gets updated every 25 ns and the ORBIT_CNT every 'x' BX_COUNTER. You can see these way of storing the time as similar to hours, minutes and seconds.\n",
    "\n",
    "1\\. Create a Pandas DataFrame by read N raws of the 'data_000637.txt' dataset. Choose N to be smaller than or equal to the maximum number of raws and larger that 10k.\n",
    "\n",
    "2\\. Find out the value of 'x'\n",
    "\n",
    "3\\. Find out how much the data taking lasted. You can either make an estimate on the baseis of the fraction of the measurements (raws) you read, or perform this check precisely by reading out the whole dataset\n",
    "\n",
    "4\\. Create a new column with the actual time in ns (as a combination of the other three columns with timing information)\n",
    "\n",
    "5\\. Replace the values (all 1) of the HEAD column randomly with 0 or 1\n",
    "\n",
    "6\\. Create a new DataFrame with only the raws with HEAD=1\n",
    "\n",
    "7\\. Make two occupancy plots (one per FPGA), i.e. plot the number of counts per TDC channel\n",
    "\n",
    "8\\. Use the groupby method to find out the noisy channels, i.e. the TDC channels with most counts (say the top 3)\n",
    "\n",
    "9\\. Count the number of unique orbits. Count the number of unique orbits with at least one measurement from TDC_CHANNEL=139"
   ]
  },
  {
   "cell_type": "code",
   "execution_count": 1,
   "metadata": {},
   "outputs": [],
   "source": [
    "import pandas as pd\n",
    "import numpy as np"
   ]
  },
  {
   "cell_type": "code",
   "execution_count": 2,
   "metadata": {},
   "outputs": [],
   "source": [
    "# Ex. 1.\n",
    "data = pd.read_csv('data_000637.csv')\n",
    "\n",
    "N = (int(1e4) + 1)\n",
    "\n",
    "data = data.head(N)"
   ]
  },
  {
   "cell_type": "code",
   "execution_count": 3,
   "metadata": {},
   "outputs": [
    {
     "name": "stdout",
     "output_type": "stream",
     "text": [
      "354703\n"
     ]
    }
   ],
   "source": [
    "# Ex. 2.\n",
    "orbit_unit = data['BX_COUNTER'].max()\n",
    "\n",
    "# Ex. 3.\n",
    "max_ORBIT_CNT = data['ORBIT_CNT'].max()\n",
    "\n",
    "data_max_BX_ORBIT = data.loc[data['ORBIT_CNT'] == max_ORBIT_CNT]\n",
    "\n",
    "max_BX_ORBIT = data_max_BX_ORBIT['BX_COUNTER'].max()\n",
    "\n",
    "min_ORBIT_CNT = data['ORBIT_CNT'].min()\n",
    "\n",
    "data_min_BX_ORBIT = data.loc[data['ORBIT_CNT'] == min_ORBIT_CNT]\n",
    "\n",
    "min_BX_ORBIT = data_min_BX_ORBIT['BX_COUNTER'].min()\n",
    "\n",
    "time_start = (min_ORBIT_CNT * orbit_unit + min_BX_ORBIT)\n",
    "\n",
    "time_end = (max_ORBIT_CNT * orbit_unit + max_BX_ORBIT)\n",
    "\n",
    "time_tot = time_end - time_start\n",
    "\n",
    "time_tot_second = time_tot * 25 * 1e-9\n",
    "\n",
    "print(time_tot)"
   ]
  },
  {
   "cell_type": "code",
   "execution_count": 4,
   "metadata": {},
   "outputs": [],
   "source": [
    "# Ex. 4.\n",
    "BX_COUNTER = np.array(data['BX_COUNTER'])\n",
    "ORBIT_CNT = np.array(data['ORBIT_CNT'])\n",
    "\n",
    "time = (BX_COUNTER+ORBIT_CNT*orbit_unit)*25\n",
    "\n",
    "data['TIME_NS'] = time"
   ]
  },
  {
   "cell_type": "code",
   "execution_count": 5,
   "metadata": {},
   "outputs": [],
   "source": [
    "# Ex. 5.\n",
    "import random\n",
    "\n",
    "ran = np.array([random.randint(0, 1) for i in range(int(N))])\n",
    "\n",
    "data['HEAD'] = ran"
   ]
  },
  {
   "cell_type": "code",
   "execution_count": 6,
   "metadata": {},
   "outputs": [],
   "source": [
    "#Ex. 6.\n",
    "data1 = data.loc[data['HEAD'] == 1]"
   ]
  },
  {
   "cell_type": "code",
   "execution_count": 7,
   "metadata": {},
   "outputs": [
    {
     "data": {
      "text/plain": [
       "<Figure size 640x480 with 1 Axes>"
      ]
     },
     "metadata": {},
     "output_type": "display_data"
    },
    {
     "data": {
      "text/plain": [
       "<Figure size 640x480 with 1 Axes>"
      ]
     },
     "metadata": {},
     "output_type": "display_data"
    }
   ],
   "source": [
    "#Ex. 7.\n",
    "\n",
    "import matplotlib.pyplot as plt\n",
    "\n",
    "fpga0 = data1.loc[data1['FPGA'] == 0]\n",
    "fpga1 = data1.loc[data1['FPGA'] == 1]\n",
    "\n",
    "plt.hist(fpga0['TDC_CHANNEL'],bins=int(np.sqrt(fpga0['TDC_CHANNEL'].shape[0])))\n",
    "plt.xlabel(\"TDC_CHANNEL\")\n",
    "plt.ylabel(\"Counts\")\n",
    "plt.show()\n",
    "\n",
    "plt.hist(fpga1['TDC_CHANNEL'],bins=int(np.sqrt(fpga1['TDC_CHANNEL'].shape[0])))\n",
    "plt.xlabel(\"TDC_CHANNEL\")\n",
    "plt.ylabel(\"Counts\")\n",
    "plt.show()"
   ]
  },
  {
   "cell_type": "code",
   "execution_count": 8,
   "metadata": {},
   "outputs": [
    {
     "name": "stdout",
     "output_type": "stream",
     "text": [
      "TDC_CHANNEL\n",
      "139    599\n",
      "63     496\n",
      "64     480\n",
      "Name: FPGA, dtype: int64\n",
      "TDC_CHANNEL\n",
      "139    261\n",
      "2      250\n",
      "1      237\n",
      "Name: FPGA, dtype: int64\n"
     ]
    }
   ],
   "source": [
    "# Ex. 8.\n",
    "\n",
    "print(data[data['FPGA'] == 0].groupby(['TDC_CHANNEL']).count()['FPGA'].nlargest(3))\n",
    "print(data[data['FPGA'] == 1].groupby(['TDC_CHANNEL']).count()['FPGA'].nlargest(3))"
   ]
  },
  {
   "cell_type": "code",
   "execution_count": 9,
   "metadata": {},
   "outputs": [
    {
     "name": "stdout",
     "output_type": "stream",
     "text": [
      "Number of unique orbits:  860\n",
      "Number of unique orbits with at least one measurament:  860\n"
     ]
    }
   ],
   "source": [
    "# Ex. 9.\n",
    "\n",
    "data.nunique()['ORBIT_CNT']\n",
    "\n",
    "channel_139 = data.loc[data['TDC_CHANNEL'] == 139]\n",
    "\n",
    "channel_139_zero = channel_139.loc[channel_139['TDC_MEAS'] != 0]\n",
    "\n",
    "channel_139_zero.nunique()['ORBIT_CNT']\n",
    "\n",
    "print(\"Number of unique orbits: \",channel_139.shape[0])\n",
    "print(\"Number of unique orbits with at least one measurament: \",channel_139.shape[0])"
   ]
  },
  {
   "cell_type": "code",
   "execution_count": null,
   "metadata": {},
   "outputs": [],
   "source": []
  }
 ],
 "metadata": {
  "kernelspec": {
   "display_name": "Python 3",
   "language": "python",
   "name": "python3"
  },
  "language_info": {
   "codemirror_mode": {
    "name": "ipython",
    "version": 3
   },
   "file_extension": ".py",
   "mimetype": "text/x-python",
   "name": "python",
   "nbconvert_exporter": "python",
   "pygments_lexer": "ipython3",
   "version": "3.7.4"
  }
 },
 "nbformat": 4,
 "nbformat_minor": 2
}
