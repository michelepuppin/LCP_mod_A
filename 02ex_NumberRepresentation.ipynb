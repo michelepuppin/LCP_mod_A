{
 "cells": [
  {
   "cell_type": "markdown",
   "metadata": {},
   "source": [
    "1\\. Write a function that converts number representation (bin<->dec<->hex)"
   ]
  },
  {
   "cell_type": "code",
   "execution_count": 1,
   "metadata": {},
   "outputs": [],
   "source": [
    "# Ex. 1.\n",
    "\n",
    "class conv_num():\n",
    "    \"\"\" - Use \"dec_to_bin_hex(x,a)\" function to convert a decimal number in binary (a=2) o hexadecimal (a=16)\n",
    "    \\n - Use bin_hex_to_dec(s,a) to convert binary (a=2) or hexadecimal (a=16) number in decimal number \n",
    "    \\n - Use bin_to_hex(x,a,b) to convert binary in hexadecimal number (a=2,b=16) o hexadecimal in binary (a=16,b=2) \n",
    "    \\n WARNING: binary and hexadecimal number must be written as lists\"\"\"\n",
    "    \n",
    "    def dec_to_bin_hex(x,a):\n",
    "        s = []\n",
    "        while x >= 1:\n",
    "            s.append(x%a)\n",
    "            x = x//a  \n",
    "        s.reverse()\n",
    "        s_corr = []\n",
    "        for i in range(len(s)):\n",
    "            if s[i] == 10:\n",
    "                s_corr.append(\"a\")\n",
    "            elif s[i] == 11:\n",
    "                s_corr.append(\"b\")\n",
    "            elif s[i] == 12:\n",
    "                s_corr.append(\"c\")\n",
    "            elif s[i] == 13:\n",
    "                s_corr.append(\"d\")\n",
    "            elif s[i] == 14:\n",
    "                s_corr.append(\"e\")\n",
    "            elif s[i] == 15:\n",
    "                s_corr.append(\"f\")\n",
    "            else: s_corr.append(s[i])\n",
    "        return s_corr\n",
    "\n",
    "    def convert(s):\n",
    "        s_corr=[]\n",
    "        for i in range(len(s)):\n",
    "            if s[i] == \"a\":\n",
    "                s_corr.append(10)\n",
    "            elif s[i] == \"b\":\n",
    "                s_corr.append(11)\n",
    "            elif s[i] == \"c\":\n",
    "                s_corr.append(12)\n",
    "            elif s[i] == \"d\":\n",
    "                s_corr.append(13)\n",
    "            elif s[i] == \"e\":\n",
    "                s_corr.append(14)\n",
    "            elif s[i] == \"f\":\n",
    "                s_corr.append(15)\n",
    "            else: s_corr.append(s[i])\n",
    "        return s_corr\n",
    "\n",
    "    def bin_hex_to_dec(s,a):\n",
    "        x = conv_num.convert(s)\n",
    "        x.reverse()\n",
    "        d = 0\n",
    "        for i in range(len(x)):\n",
    "            d += (x[i])*pow(a,i)\n",
    "        return d\n",
    "\n",
    "    def bin_to_hex(x,a,b):\n",
    "        return conv_num.dec_to_bin_hex(conv_num.bin_hex_to_dec(x,a),b)"
   ]
  },
  {
   "cell_type": "code",
   "execution_count": 2,
   "metadata": {},
   "outputs": [
    {
     "name": "stdout",
     "output_type": "stream",
     "text": [
      " - Use \"dec_to_bin_hex(x,a)\" function to convert a decimal number in binary (a=2) o hexadecimal (a=16)\n",
      "    \n",
      " - Use bin_hex_to_dec(s,a) to convert binary (a=2) or hexadecimal (a=16) number in decimal number \n",
      "    \n",
      " - Use bin_to_hex(x,a,b) to convert binary in hexadecimal number (a=2,b=16) o hexadecimal in binary (a=16,b=2) \n",
      "    \n",
      " WARNING: binary and hexadecimal number must be written as lists\n",
      "\n",
      "\n",
      "18 -> [1, 0, 0, 1, 0] -> [1, 2] \n",
      " [1, 'e'] -> 30 -> [1, 1, 1, 1, 0] \n",
      " [0, 1, 0, 0, 0, 0, 0, 0, 0, 0, 0, 0, 0, 0, 0, 0, 0, 0, 0, 0, 0, 0, 0] -> 2097152 -> [2, 0, 0, 0, 0, 0]\n"
     ]
    }
   ],
   "source": [
    "print(conv_num.__doc__)\n",
    "print(\"\\n\")\n",
    "\n",
    "a_dec=18\n",
    "a_bin=conv_num.dec_to_bin_hex(a_dec,2)\n",
    "a_hex=conv_num.dec_to_bin_hex(a_dec,16)\n",
    "\n",
    "b_hex=[1,\"e\"]\n",
    "b_dec=conv_num.bin_hex_to_dec(b_hex,16)\n",
    "b_bin=conv_num.bin_to_hex(b_hex,16,2)\n",
    "\n",
    "c_bin=[0,1,0,0,0,0,0,0,0,0,0,0,0,0,0,0,0,0,0,0,0,0,0]\n",
    "c_dec= conv_num.bin_hex_to_dec(c_bin,2)\n",
    "c_hex=conv_num.bin_to_hex(c_bin,2,16)\n",
    "    \n",
    "print(a_dec, \"->\", a_bin, \"->\", a_hex, \"\\n\", b_hex, \"->\", b_dec, \"->\", b_bin, \"\\n\", c_bin, \"->\", c_dec, \"->\", c_hex)"
   ]
  },
  {
   "cell_type": "markdown",
   "metadata": {},
   "source": [
    "2\\. Write a function that converts a 32 bit word into a single precision floating point (i.e. interprets the various bits as sign, mantissa and exponent)"
   ]
  },
  {
   "cell_type": "code",
   "execution_count": 3,
   "metadata": {},
   "outputs": [
    {
     "name": "stdout",
     "output_type": "stream",
     "text": [
      "0.15625\n"
     ]
    }
   ],
   "source": [
    "# Ex. 2.\n",
    "\n",
    "a = \"00111110001000000000000000000000\"\n",
    "\n",
    "def sing_prec_conv(a):\n",
    "    if len(a)!=32:\n",
    "        print(\"!!!ERROR!!!\")\n",
    "    exp=[0,0,0,0,0,0,0,0]\n",
    "    for i in range(len(exp)):\n",
    "        exp[i]=int(a[i+1])\n",
    "    d=1\n",
    "    for i in range(0,23):\n",
    "        d+=(int(a[i+9]))*(2**(-i-1))\n",
    "        \n",
    "    exp_dec=conv_num.bin_hex_to_dec(exp,2)  \n",
    "\n",
    "    return ((-1)**int(a[0]))*d*(2**(exp_dec-127))\n",
    "\n",
    "print(sing_prec_conv(a))"
   ]
  },
  {
   "cell_type": "markdown",
   "metadata": {},
   "source": [
    "3\\. Write a program to determine the underflow and overflow limits (within a factor of 2) for python on your computer. \n",
    "\n",
    "**Tips**: define two variables inizialized to 1 and halve/double them enough time to exceed the under/over-flow limits  "
   ]
  },
  {
   "cell_type": "code",
   "execution_count": 4,
   "metadata": {},
   "outputs": [
    {
     "name": "stdout",
     "output_type": "stream",
     "text": [
      "8.98846567431158e+307\n",
      "5e-324\n"
     ]
    }
   ],
   "source": [
    "# Ex. 3\n",
    "\n",
    "x = 1\n",
    "while x < float('Inf'):\n",
    "    if x*2 == float('Inf'):\n",
    "        print(x)\n",
    "    x *= 2.\n",
    "\n",
    "x = 1\n",
    "while x != 0:\n",
    "    if x/2 == 0:\n",
    "        print(x)\n",
    "    x /= 2"
   ]
  },
  {
   "cell_type": "markdown",
   "metadata": {},
   "source": [
    "4\\. Write a program to determine the machine precision\n",
    "\n",
    "**Tips**: define a new variable by adding a smaller and smaller value (proceeding similarly to prob. 2) to an original variable and check the point where the two are the same "
   ]
  },
  {
   "cell_type": "code",
   "execution_count": 5,
   "metadata": {},
   "outputs": [
    {
     "name": "stdout",
     "output_type": "stream",
     "text": [
      "The precision is  10^ -16\n"
     ]
    }
   ],
   "source": [
    "# Ex. 4.\n",
    "\n",
    "a=1\n",
    "b=1.1\n",
    "i=1\n",
    "\n",
    "while a<b:\n",
    "    b=1+(10**(-i))\n",
    "    i+=1\n",
    "    \n",
    "print(\"The precision is \", \"10^\", -i+1)"
   ]
  },
  {
   "cell_type": "markdown",
   "metadata": {},
   "source": [
    "5\\. Write a function that takes in input three parameters $a$, $b$ and $c$ and prints out the two solutions to the quadratic equation $ax^2+bx+c=0$ using the standard formula:\n",
    "$$\n",
    "x=\\frac{-b\\pm\\sqrt{b^2-4ac}}{2a}\n",
    "$$\n",
    "\n",
    "(a) use the program to compute the solution for $a=0.001$, $b=1000$ and $c=0.001$\n",
    "\n",
    "(b) re-express the standard solution formula by multiplying top and bottom by $-b\\mp\\sqrt{b^2-4ac}$ and again find the solution for $a=0.001$, $b=1000$ and $c=0.001$. How does it compare with what previously obtained? Why?\n",
    "\n",
    "(c) write a function that compute the roots of a quadratic equation accurately in all cases"
   ]
  },
  {
   "cell_type": "code",
   "execution_count": 6,
   "metadata": {},
   "outputs": [
    {
     "name": "stdout",
     "output_type": "stream",
     "text": [
      "(-9.999894245993346e-07, -999999.999999)\n",
      "(1000010.5755125057, 1.000000000001e-06)\n",
      "(-250000.0000005, 749999.9999995)\n"
     ]
    }
   ],
   "source": [
    "# Ex. 5.\n",
    "\n",
    "# (a)\n",
    "def roots(a,b,c):    \n",
    "    xp = (-b+((b*b-4*a*c)**(1/2)))/(2*a)\n",
    "    xm = (-b-((b*b-4*a*c)**(1/2)))/(2*a)\n",
    "    return (xp, xm)\n",
    "\n",
    "# (b)\n",
    "def roots_var(a,b,c):\n",
    "    xp = (-2*c)/(-b+((b*b-4*a*c)**(1/2)))\n",
    "    xm = (-2*c)/(-b-((b*b-4*a*c)**(1/2)))\n",
    "    return (xp, xm)\n",
    "\n",
    "# (c) \n",
    "def roots_var_stable(a,b,c): # Make it stable avoiding dangerous operation\n",
    "    if (b**2 - 4*a*c) >= 0:\n",
    "        xsum = -b/a\n",
    "        xdiff = ((b**2 - 4*a*c)**(1/2))/(2*a)\n",
    "        xp = (xsum + xdiff)/2\n",
    "        xm = -(xsum - xdiff)/2\n",
    "        return (xp,xm)\n",
    "    else: print( 'Im')\n",
    "\n",
    "a = 0.001\n",
    "b = 1000\n",
    "c = 0.001\n",
    "\n",
    "print(roots(a,b,c))\n",
    "print(roots_var(a,b,c))\n",
    "print(roots_var_stable(a,b,c))"
   ]
  },
  {
   "cell_type": "markdown",
   "metadata": {},
   "source": [
    "6\\. Write a program that implements the function $f(x)=x(x−1)$\n",
    "\n",
    "(a) Calculate the derivative of the function at the point $x = 1$ using the derivative definition:\n",
    "\n",
    "$$\n",
    "\\frac{{\\rm d}f}{{\\rm d}x} = \\lim_{\\delta\\to0} \\frac{f(x+\\delta)-f(x)}{\\delta}\n",
    "$$\n",
    "\n",
    "with $\\delta = 10^{−2}$. Calculate the true value of the same derivative analytically and compare with the answer your program gives. The two will not agree perfectly. Why not?\n",
    "\n",
    "(b) Repeat the calculation for $\\delta = 10^{−4}, 10^{−6}, 10^{−8}, 10^{−10}, 10^{−12}$ and $10^{−14}$. How does the accuracy scales with $\\delta$?"
   ]
  },
  {
   "cell_type": "code",
   "execution_count": 9,
   "metadata": {},
   "outputs": [
    {
     "name": "stdout",
     "output_type": "stream",
     "text": [
      "[0.01, 0.0001, 1e-06, 1e-08, 1e-10, 1e-12, 1e-14]\n"
     ]
    },
    {
     "data": {
      "image/png": "[encoded data removed]",
      "text/plain": [
       "<Figure size 432x288 with 1 Axes>"
      ]
     },
     "metadata": {
      "needs_background": "light"
     },
     "output_type": "display_data"
    }
   ],
   "source": [
    "# Ex. 6.\n",
    "\n",
    "import matplotlib.pyplot as plt \n",
    "\n",
    "# (a)\n",
    "\n",
    "def f(x):\n",
    "    return x*(x-1)\n",
    "\n",
    "# First derivative\n",
    "delta = (10**(-3))\n",
    "point = 1\n",
    "\n",
    "# (b)\n",
    "con = []\n",
    "exp = [-2,-4,-6,-8,-10,-12,-14]\n",
    "delta = [10**i for i in exp]\n",
    "print(delta)\n",
    "for i in delta:\n",
    "    con.append((((f(point+i)-f(point))/i)-1))\n",
    "\n",
    "plt.plot(delta,con,'.')\n",
    "plt.yscale(\"log\")\n",
    "plt.xscale(\"log\")\n",
    "plt.show()"
   ]
  },
  {
   "cell_type": "markdown",
   "metadata": {},
   "source": [
    "7\\. Consider the integral of the semicircle of radius 1:\n",
    "$$\n",
    "I=\\int_{-1}^{1} \\sqrt(1-x^2) {\\rm d}x\n",
    "$$\n",
    "which it's known to be $I=\\frac{\\pi}{2}=1.57079632679...$.\n",
    "Alternatively we can use the Riemann definition of the integral:\n",
    "$$\n",
    "I=\\lim_{N\\to\\infty} \\sum_{k=1}^{N} h y_k \n",
    "$$\n",
    "\n",
    "with $h=2/N$ the width of each of the $N$ slices the domain is divided into and where\n",
    "$y_k$ is the value of the function at the $k-$th slice.\n",
    "\n",
    "(a) Write a programe to compute the integral with $N=100$. How does the result compares to the true value?\n",
    "\n",
    "(b) How much can $N$ be increased if the computation needs to be run in less than a second? What is the gain in running it for 1 minute? \n"
   ]
  },
  {
   "cell_type": "code",
   "execution_count": 8,
   "metadata": {},
   "outputs": [
    {
     "name": "stdout",
     "output_type": "stream",
     "text": [
      "The value of I with N = 100 is: 1.569134\n",
      "The difference between calculated and expected value is: 0.106 %\n",
      "\n",
      "\n",
      "1.14 s ± 116 ms per loop (mean ± std. dev. of 7 runs, 1 loop each)\n",
      "The value of I with N = 4000000 is: 1.570796\n",
      "The difference between calculated and expected value is: 1.3235093770088998e-08 %\n",
      "\n",
      "\n"
     ]
    },
    {
     "ename": "KeyboardInterrupt",
     "evalue": "",
     "output_type": "error",
     "traceback": [
      "\u001b[0;31m---------------------------------------------------------------------------\u001b[0m",
      "\u001b[0;31mKeyboardInterrupt\u001b[0m                         Traceback (most recent call last)",
      "\u001b[0;32m<ipython-input-8-72d7e9fbaae5>\u001b[0m in \u001b[0;36m<module>\u001b[0;34m\u001b[0m\n\u001b[1;32m     33\u001b[0m \u001b[0mN\u001b[0m \u001b[0;34m=\u001b[0m \u001b[0;36m3\u001b[0m\u001b[0;34m*\u001b[0m\u001b[0;34m(\u001b[0m\u001b[0;36m10\u001b[0m\u001b[0;34m**\u001b[0m\u001b[0;36m8\u001b[0m\u001b[0;34m)\u001b[0m\u001b[0;34m\u001b[0m\u001b[0;34m\u001b[0m\u001b[0m\n\u001b[1;32m     34\u001b[0m \u001b[0;34m\u001b[0m\u001b[0m\n\u001b[0;32m---> 35\u001b[0;31m \u001b[0mget_ipython\u001b[0m\u001b[0;34m(\u001b[0m\u001b[0;34m)\u001b[0m\u001b[0;34m.\u001b[0m\u001b[0mrun_line_magic\u001b[0m\u001b[0;34m(\u001b[0m\u001b[0;34m'timeit'\u001b[0m\u001b[0;34m,\u001b[0m \u001b[0;34m'[integral(N)]'\u001b[0m\u001b[0;34m)\u001b[0m\u001b[0;34m\u001b[0m\u001b[0;34m\u001b[0m\u001b[0m\n\u001b[0m\u001b[1;32m     36\u001b[0m \u001b[0;34m\u001b[0m\u001b[0m\n\u001b[1;32m     37\u001b[0m \u001b[0mI2s\u001b[0m \u001b[0;34m=\u001b[0m \u001b[0mintegral\u001b[0m\u001b[0;34m(\u001b[0m\u001b[0mN\u001b[0m\u001b[0;34m)\u001b[0m\u001b[0;34m\u001b[0m\u001b[0;34m\u001b[0m\u001b[0m\n",
      "\u001b[0;32m~/anaconda3/lib/python3.7/site-packages/IPython/core/interactiveshell.py\u001b[0m in \u001b[0;36mrun_line_magic\u001b[0;34m(self, magic_name, line, _stack_depth)\u001b[0m\n\u001b[1;32m   2312\u001b[0m                 \u001b[0mkwargs\u001b[0m\u001b[0;34m[\u001b[0m\u001b[0;34m'local_ns'\u001b[0m\u001b[0;34m]\u001b[0m \u001b[0;34m=\u001b[0m \u001b[0msys\u001b[0m\u001b[0;34m.\u001b[0m\u001b[0m_getframe\u001b[0m\u001b[0;34m(\u001b[0m\u001b[0mstack_depth\u001b[0m\u001b[0;34m)\u001b[0m\u001b[0;34m.\u001b[0m\u001b[0mf_locals\u001b[0m\u001b[0;34m\u001b[0m\u001b[0;34m\u001b[0m\u001b[0m\n\u001b[1;32m   2313\u001b[0m             \u001b[0;32mwith\u001b[0m \u001b[0mself\u001b[0m\u001b[0;34m.\u001b[0m\u001b[0mbuiltin_trap\u001b[0m\u001b[0;34m:\u001b[0m\u001b[0;34m\u001b[0m\u001b[0;34m\u001b[0m\u001b[0m\n\u001b[0;32m-> 2314\u001b[0;31m                 \u001b[0mresult\u001b[0m \u001b[0;34m=\u001b[0m \u001b[0mfn\u001b[0m\u001b[0;34m(\u001b[0m\u001b[0;34m*\u001b[0m\u001b[0margs\u001b[0m\u001b[0;34m,\u001b[0m \u001b[0;34m**\u001b[0m\u001b[0mkwargs\u001b[0m\u001b[0;34m)\u001b[0m\u001b[0;34m\u001b[0m\u001b[0;34m\u001b[0m\u001b[0m\n\u001b[0m\u001b[1;32m   2315\u001b[0m             \u001b[0;32mreturn\u001b[0m \u001b[0mresult\u001b[0m\u001b[0;34m\u001b[0m\u001b[0;34m\u001b[0m\u001b[0m\n\u001b[1;32m   2316\u001b[0m \u001b[0;34m\u001b[0m\u001b[0m\n",
      "\u001b[0;32m</home/michelepuppin/anaconda3/lib/python3.7/site-packages/decorator.py:decorator-gen-60>\u001b[0m in \u001b[0;36mtimeit\u001b[0;34m(self, line, cell, local_ns)\u001b[0m\n",
      "\u001b[0;32m~/anaconda3/lib/python3.7/site-packages/IPython/core/magic.py\u001b[0m in \u001b[0;36m<lambda>\u001b[0;34m(f, *a, **k)\u001b[0m\n\u001b[1;32m    185\u001b[0m     \u001b[0;31m# but it's overkill for just that one bit of state.\u001b[0m\u001b[0;34m\u001b[0m\u001b[0;34m\u001b[0m\u001b[0;34m\u001b[0m\u001b[0m\n\u001b[1;32m    186\u001b[0m     \u001b[0;32mdef\u001b[0m \u001b[0mmagic_deco\u001b[0m\u001b[0;34m(\u001b[0m\u001b[0marg\u001b[0m\u001b[0;34m)\u001b[0m\u001b[0;34m:\u001b[0m\u001b[0;34m\u001b[0m\u001b[0;34m\u001b[0m\u001b[0m\n\u001b[0;32m--> 187\u001b[0;31m         \u001b[0mcall\u001b[0m \u001b[0;34m=\u001b[0m \u001b[0;32mlambda\u001b[0m \u001b[0mf\u001b[0m\u001b[0;34m,\u001b[0m \u001b[0;34m*\u001b[0m\u001b[0ma\u001b[0m\u001b[0;34m,\u001b[0m \u001b[0;34m**\u001b[0m\u001b[0mk\u001b[0m\u001b[0;34m:\u001b[0m \u001b[0mf\u001b[0m\u001b[0;34m(\u001b[0m\u001b[0;34m*\u001b[0m\u001b[0ma\u001b[0m\u001b[0;34m,\u001b[0m \u001b[0;34m**\u001b[0m\u001b[0mk\u001b[0m\u001b[0;34m)\u001b[0m\u001b[0;34m\u001b[0m\u001b[0;34m\u001b[0m\u001b[0m\n\u001b[0m\u001b[1;32m    188\u001b[0m \u001b[0;34m\u001b[0m\u001b[0m\n\u001b[1;32m    189\u001b[0m         \u001b[0;32mif\u001b[0m \u001b[0mcallable\u001b[0m\u001b[0;34m(\u001b[0m\u001b[0marg\u001b[0m\u001b[0;34m)\u001b[0m\u001b[0;34m:\u001b[0m\u001b[0;34m\u001b[0m\u001b[0;34m\u001b[0m\u001b[0m\n",
      "\u001b[0;32m~/anaconda3/lib/python3.7/site-packages/IPython/core/magics/execution.py\u001b[0m in \u001b[0;36mtimeit\u001b[0;34m(self, line, cell, local_ns)\u001b[0m\n\u001b[1;32m   1160\u001b[0m                     \u001b[0;32mbreak\u001b[0m\u001b[0;34m\u001b[0m\u001b[0;34m\u001b[0m\u001b[0m\n\u001b[1;32m   1161\u001b[0m \u001b[0;34m\u001b[0m\u001b[0m\n\u001b[0;32m-> 1162\u001b[0;31m         \u001b[0mall_runs\u001b[0m \u001b[0;34m=\u001b[0m \u001b[0mtimer\u001b[0m\u001b[0;34m.\u001b[0m\u001b[0mrepeat\u001b[0m\u001b[0;34m(\u001b[0m\u001b[0mrepeat\u001b[0m\u001b[0;34m,\u001b[0m \u001b[0mnumber\u001b[0m\u001b[0;34m)\u001b[0m\u001b[0;34m\u001b[0m\u001b[0;34m\u001b[0m\u001b[0m\n\u001b[0m\u001b[1;32m   1163\u001b[0m         \u001b[0mbest\u001b[0m \u001b[0;34m=\u001b[0m \u001b[0mmin\u001b[0m\u001b[0;34m(\u001b[0m\u001b[0mall_runs\u001b[0m\u001b[0;34m)\u001b[0m \u001b[0;34m/\u001b[0m \u001b[0mnumber\u001b[0m\u001b[0;34m\u001b[0m\u001b[0;34m\u001b[0m\u001b[0m\n\u001b[1;32m   1164\u001b[0m         \u001b[0mworst\u001b[0m \u001b[0;34m=\u001b[0m \u001b[0mmax\u001b[0m\u001b[0;34m(\u001b[0m\u001b[0mall_runs\u001b[0m\u001b[0;34m)\u001b[0m \u001b[0;34m/\u001b[0m \u001b[0mnumber\u001b[0m\u001b[0;34m\u001b[0m\u001b[0;34m\u001b[0m\u001b[0m\n",
      "\u001b[0;32m~/anaconda3/lib/python3.7/timeit.py\u001b[0m in \u001b[0;36mrepeat\u001b[0;34m(self, repeat, number)\u001b[0m\n\u001b[1;32m    202\u001b[0m         \u001b[0mr\u001b[0m \u001b[0;34m=\u001b[0m \u001b[0;34m[\u001b[0m\u001b[0;34m]\u001b[0m\u001b[0;34m\u001b[0m\u001b[0;34m\u001b[0m\u001b[0m\n\u001b[1;32m    203\u001b[0m         \u001b[0;32mfor\u001b[0m \u001b[0mi\u001b[0m \u001b[0;32min\u001b[0m \u001b[0mrange\u001b[0m\u001b[0;34m(\u001b[0m\u001b[0mrepeat\u001b[0m\u001b[0;34m)\u001b[0m\u001b[0;34m:\u001b[0m\u001b[0;34m\u001b[0m\u001b[0;34m\u001b[0m\u001b[0m\n\u001b[0;32m--> 204\u001b[0;31m             \u001b[0mt\u001b[0m \u001b[0;34m=\u001b[0m \u001b[0mself\u001b[0m\u001b[0;34m.\u001b[0m\u001b[0mtimeit\u001b[0m\u001b[0;34m(\u001b[0m\u001b[0mnumber\u001b[0m\u001b[0;34m)\u001b[0m\u001b[0;34m\u001b[0m\u001b[0;34m\u001b[0m\u001b[0m\n\u001b[0m\u001b[1;32m    205\u001b[0m             \u001b[0mr\u001b[0m\u001b[0;34m.\u001b[0m\u001b[0mappend\u001b[0m\u001b[0;34m(\u001b[0m\u001b[0mt\u001b[0m\u001b[0;34m)\u001b[0m\u001b[0;34m\u001b[0m\u001b[0;34m\u001b[0m\u001b[0m\n\u001b[1;32m    206\u001b[0m         \u001b[0;32mreturn\u001b[0m \u001b[0mr\u001b[0m\u001b[0;34m\u001b[0m\u001b[0;34m\u001b[0m\u001b[0m\n",
      "\u001b[0;32m~/anaconda3/lib/python3.7/site-packages/IPython/core/magics/execution.py\u001b[0m in \u001b[0;36mtimeit\u001b[0;34m(self, number)\u001b[0m\n\u001b[1;32m    167\u001b[0m         \u001b[0mgc\u001b[0m\u001b[0;34m.\u001b[0m\u001b[0mdisable\u001b[0m\u001b[0;34m(\u001b[0m\u001b[0;34m)\u001b[0m\u001b[0;34m\u001b[0m\u001b[0;34m\u001b[0m\u001b[0m\n\u001b[1;32m    168\u001b[0m         \u001b[0;32mtry\u001b[0m\u001b[0;34m:\u001b[0m\u001b[0;34m\u001b[0m\u001b[0;34m\u001b[0m\u001b[0m\n\u001b[0;32m--> 169\u001b[0;31m             \u001b[0mtiming\u001b[0m \u001b[0;34m=\u001b[0m \u001b[0mself\u001b[0m\u001b[0;34m.\u001b[0m\u001b[0minner\u001b[0m\u001b[0;34m(\u001b[0m\u001b[0mit\u001b[0m\u001b[0;34m,\u001b[0m \u001b[0mself\u001b[0m\u001b[0;34m.\u001b[0m\u001b[0mtimer\u001b[0m\u001b[0;34m)\u001b[0m\u001b[0;34m\u001b[0m\u001b[0;34m\u001b[0m\u001b[0m\n\u001b[0m\u001b[1;32m    170\u001b[0m         \u001b[0;32mfinally\u001b[0m\u001b[0;34m:\u001b[0m\u001b[0;34m\u001b[0m\u001b[0;34m\u001b[0m\u001b[0m\n\u001b[1;32m    171\u001b[0m             \u001b[0;32mif\u001b[0m \u001b[0mgcold\u001b[0m\u001b[0;34m:\u001b[0m\u001b[0;34m\u001b[0m\u001b[0;34m\u001b[0m\u001b[0m\n",
      "\u001b[0;32m<magic-timeit>\u001b[0m in \u001b[0;36minner\u001b[0;34m(_it, _timer)\u001b[0m\n",
      "\u001b[0;32m<ipython-input-8-72d7e9fbaae5>\u001b[0m in \u001b[0;36mintegral\u001b[0;34m(N)\u001b[0m\n\u001b[1;32m     12\u001b[0m     \u001b[0mI\u001b[0m \u001b[0;34m=\u001b[0m \u001b[0;36m0\u001b[0m\u001b[0;34m\u001b[0m\u001b[0;34m\u001b[0m\u001b[0m\n\u001b[1;32m     13\u001b[0m     \u001b[0;32mfor\u001b[0m \u001b[0mi\u001b[0m \u001b[0;32min\u001b[0m \u001b[0mrange\u001b[0m\u001b[0;34m(\u001b[0m\u001b[0mN\u001b[0m\u001b[0;34m)\u001b[0m\u001b[0;34m:\u001b[0m\u001b[0;34m\u001b[0m\u001b[0;34m\u001b[0m\u001b[0m\n\u001b[0;32m---> 14\u001b[0;31m         \u001b[0mI\u001b[0m \u001b[0;34m+=\u001b[0m \u001b[0mmath\u001b[0m\u001b[0;34m.\u001b[0m\u001b[0msqrt\u001b[0m\u001b[0;34m(\u001b[0m\u001b[0;36m1\u001b[0m\u001b[0;34m-\u001b[0m\u001b[0;34m(\u001b[0m\u001b[0;34m(\u001b[0m\u001b[0mh\u001b[0m\u001b[0;34m*\u001b[0m\u001b[0;34m(\u001b[0m\u001b[0;34m(\u001b[0m\u001b[0mN\u001b[0m\u001b[0;34m/\u001b[0m\u001b[0;36m2\u001b[0m\u001b[0;34m)\u001b[0m\u001b[0;34m-\u001b[0m\u001b[0mi\u001b[0m\u001b[0;34m)\u001b[0m\u001b[0;34m)\u001b[0m\u001b[0;34m**\u001b[0m\u001b[0;36m2\u001b[0m\u001b[0;34m)\u001b[0m\u001b[0;34m)\u001b[0m\u001b[0;34m\u001b[0m\u001b[0;34m\u001b[0m\u001b[0m\n\u001b[0m\u001b[1;32m     15\u001b[0m     \u001b[0;32mreturn\u001b[0m \u001b[0mh\u001b[0m\u001b[0;34m*\u001b[0m\u001b[0mI\u001b[0m\u001b[0;34m\u001b[0m\u001b[0;34m\u001b[0m\u001b[0m\n\u001b[1;32m     16\u001b[0m \u001b[0;34m\u001b[0m\u001b[0m\n",
      "\u001b[0;31mKeyboardInterrupt\u001b[0m: "
     ]
    }
   ],
   "source": [
    "# Ex. 7.\n",
    "\n",
    "import math\n",
    "import timeit \n",
    "\n",
    "# (a)\n",
    "\n",
    "expected = math.pi/2\n",
    "\n",
    "def integral(N):\n",
    "    h = 2/N\n",
    "    I = 0\n",
    "    for i in range(N):\n",
    "        I += math.sqrt(1-((h*((N/2)-i))**2))\n",
    "    return h*I\n",
    "\n",
    "I100 = integral(100)\n",
    "\n",
    "print(\"The value of I with N =\", 100, \"is:\", '%.6f' %I100)\n",
    "print(\"The difference between calculated and expected value is:\", '%.3f' %((100*abs(expected-I100))/expected),\"%\")\n",
    "print(\"\\n\")\n",
    "\n",
    "# (b)\n",
    "N = 4*(10**6)\n",
    "\n",
    "%timeit [integral(N)]\n",
    "\n",
    "I1s = integral(N)\n",
    "print(\"The value of I with N =\", N, \"is:\", '%.6f' %I1s)\n",
    "print(\"The difference between calculated and expected value is:\", ((100*abs(expected-I1s))/expected),\"%\")\n",
    "print(\"\\n\")\n",
    "\n",
    "N = 3*(10**8)\n",
    "\n",
    "%timeit [integral(N)]\n",
    "\n",
    "I2s = integral(N)\n",
    "print(\"The value of I with N =\", N, \"is:\", '%.6f' %I2s)\n",
    "print(\"The difference between calculated and expected value is:\", ((100*abs(expected-I2s))/expected),\"%\")\n",
    "print(\"\\n\")"
   ]
  },
  {
   "cell_type": "code",
   "execution_count": null,
   "metadata": {},
   "outputs": [],
   "source": []
  }
 ],
 "metadata": {
  "kernelspec": {
   "display_name": "Python 3",
   "language": "python",
   "name": "python3"
  },
  "language_info": {
   "codemirror_mode": {
    "name": "ipython",
    "version": 3
   },
   "file_extension": ".py",
   "mimetype": "text/x-python",
   "name": "python",
   "nbconvert_exporter": "python",
   "pygments_lexer": "ipython3",
   "version": "3.7.4"
  }
 },
 "nbformat": 4,
 "nbformat_minor": 2
}
