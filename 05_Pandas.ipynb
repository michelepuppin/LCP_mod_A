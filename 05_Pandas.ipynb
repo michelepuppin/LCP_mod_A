{
 "cells": [
  {
   "cell_type": "markdown",
   "metadata": {},
   "source": [
    "# Pandas\n",
    "\n",
    "The `numpy` module is excellent for numerical computations, but to handle missing data or arrays with mixed types takes more work. The `pandas` module is currently the most widely used tool for data manipulation, providing high-performance, easy-to-use data structures and advanced data analysis tools.\n",
    "\n",
    "In particular `pandas` features:\n",
    "\n",
    "* A fast and efficient \"DataFrame\" object for data manipulation with integrated indexing;\n",
    "* Tools for reading and writing data between in-memory data structures and different formats (CSV, Excel, SQL, HDF5);\n",
    "* Intelligent data alignment and integrated handling of missing data;\n",
    "* Intelligent label-based slicing, fancy indexing, and subsetting of large data sets;\n",
    "* Aggregating or transforming data with a powerful \"group-by\" engine; \n",
    "* High performance merging and joining of data sets;\n",
    "* Hierarchical axis indexing provides an intuitive way of working with high-dimensional data in a lower-dimensional data structure;\n",
    "* Time series-functionalities;\n",
    "* Highly optimized for performance, with critical code paths written in Cython or C.\n"
   ]
  },
  {
   "cell_type": "code",
   "execution_count": 1,
   "metadata": {},
   "outputs": [],
   "source": [
    "import pandas as pd\n",
    "import numpy as np"
   ]
  },
  {
   "cell_type": "markdown",
   "metadata": {},
   "source": [
    "## Series\n",
    "\n",
    "Series are completely equivalent to 1D array but with axis labels and the possibility to store heterogeneous elements. Of paramount importance are the time-series, used to define time evolutions of a phenomenon. \n"
   ]
  },
  {
   "cell_type": "code",
   "execution_count": 2,
   "metadata": {},
   "outputs": [
    {
     "name": "stdout",
     "output_type": "stream",
     "text": [
      "xs: a    0.0\n",
      "b    0.5\n",
      "c    1.0\n",
      "d    1.5\n",
      "e    2.0\n",
      "f    2.5\n",
      "g    3.0\n",
      "h    3.5\n",
      "i    4.0\n",
      "j    4.5\n",
      "dtype: float64 \n",
      "\n",
      "xs indexes: Index(['a', 'b', 'c', 'd', 'e', 'f', 'g', 'h', 'i', 'j'], dtype='object') \n",
      "\n",
      "xs values: [0.  0.5 1.  1.5 2.  2.5 3.  3.5 4.  4.5] <class 'numpy.ndarray'> \n",
      "\n",
      "2.5 2.5 3.5 \n",
      "\n",
      "d    1.5\n",
      "f    2.5\n",
      "h    3.5\n",
      "dtype: float64 \n",
      "\n"
     ]
    }
   ],
   "source": [
    "from string import ascii_lowercase as letters\n",
    "\n",
    "# Creating a series, accessing indexes, values and values by their index \n",
    "xs = pd.Series(np.arange(10)*0.5, index=tuple(letters[:10]))\n",
    "print (\"xs:\", xs,'\\n')\n",
    "print (\"xs indexes:\",xs.index,'\\n')\n",
    "# Values of the Series are actually a numpy array\n",
    "print (\"xs values:\", xs.values, type(xs.values),'\\n')\n",
    "print (xs['f'], xs.f, xs.h, '\\n')\n",
    "print (xs[['d', 'f', 'h']], '\\n')"
   ]
  },
  {
   "cell_type": "code",
   "execution_count": 3,
   "metadata": {},
   "outputs": [
    {
     "name": "stdout",
     "output_type": "stream",
     "text": [
      "a    0.0\n",
      "b    0.5\n",
      "c    1.0\n",
      "dtype: float64 \n",
      "\n",
      "h    3.5\n",
      "i    4.0\n",
      "j    4.5\n",
      "dtype: float64 \n",
      "\n",
      "a    0.0\n",
      "d    1.5\n",
      "g    3.0\n",
      "j    4.5\n",
      "dtype: float64 \n",
      "\n",
      "h    3.5\n",
      "i    4.0\n",
      "j    4.5\n",
      "dtype: float64 \n",
      "\n",
      "a     1.000000\n",
      "b     1.648721\n",
      "c     2.718282\n",
      "d     4.481689\n",
      "e     7.389056\n",
      "f    12.182494\n",
      "g    20.085537\n",
      "h    33.115452\n",
      "i    54.598150\n",
      "j    90.017131\n",
      "dtype: float64 \n",
      "\n",
      "2.25 1.4361406616345072 \n",
      "\n"
     ]
    }
   ],
   "source": [
    "# Extracting elements and operations: same as numpy array\n",
    "print (xs[:3],'\\n')\n",
    "print (xs[7:], '\\n')\n",
    "print (xs[::3], '\\n')\n",
    "print (xs[xs>3], '\\n')\n",
    "print (np.exp(xs), '\\n')\n",
    "print (np.mean(xs), np.std(xs), '\\n')"
   ]
  },
  {
   "cell_type": "code",
   "execution_count": 4,
   "metadata": {},
   "outputs": [
    {
     "data": {
      "text/plain": [
       "b         1\n",
       "a       cat\n",
       "c    [2, 3]\n",
       "dtype: object"
      ]
     },
     "execution_count": 4,
     "metadata": {},
     "output_type": "execute_result"
    }
   ],
   "source": [
    "# Series can be created from python dictionary too.\n",
    "# Not that the elements can be whatever!\n",
    "d = {'b' : 1, 'a' : 'cat', 'c' : [2,3]}\n",
    "pd.Series(d)\n",
    "\n"
   ]
  },
  {
   "cell_type": "markdown",
   "metadata": {},
   "source": [
    "A key difference between Series and ndarray is that operations between Series automatically align the data based on label. Thus, you can write computations without giving consideration to whether the Series involved have the same labels."
   ]
  },
  {
   "cell_type": "code",
   "execution_count": 5,
   "metadata": {},
   "outputs": [
    {
     "data": {
      "text/plain": [
       "a         NaN\n",
       "b   -1.120615\n",
       "c   -4.235415\n",
       "d   -0.235699\n",
       "e         NaN\n",
       "dtype: float64"
      ]
     },
     "execution_count": 5,
     "metadata": {},
     "output_type": "execute_result"
    }
   ],
   "source": [
    "s = pd.Series(np.random.randn(5), index=tuple(letters[:5]))\n",
    "s[1:] + s[:-1]"
   ]
  },
  {
   "cell_type": "markdown",
   "metadata": {},
   "source": [
    "### Time series\n",
    "\n",
    "Time series are very often used to profile the behaviour of a quantity as a function of time. Pandas as a special index for that, `DatetimeIndex`, that can be created e.g. with the function `pd.data_range()`"
   ]
  },
  {
   "cell_type": "code",
   "execution_count": 7,
   "metadata": {},
   "outputs": [
    {
     "name": "stdout",
     "output_type": "stream",
     "text": [
      "2018-11-19 14:45:10.000015\n",
      "19/11/2019 14:45:00\n",
      "DatetimeIndex(['2019-11-19 14:45:00', '2019-11-20 14:45:00',\n",
      "               '2019-11-21 14:45:00', '2019-11-22 14:45:00',\n",
      "               '2019-11-23 14:45:00', '2019-11-24 14:45:00',\n",
      "               '2019-11-25 14:45:00'],\n",
      "              dtype='datetime64[ns]', freq='D')\n",
      "DatetimeIndex(['2019-11-19 14:45:00', '2019-11-19 14:45:01',\n",
      "               '2019-11-19 14:45:02', '2019-11-19 14:45:03',\n",
      "               '2019-11-19 14:45:04', '2019-11-19 14:45:05',\n",
      "               '2019-11-19 14:45:06', '2019-11-19 14:45:07',\n",
      "               '2019-11-19 14:45:08', '2019-11-19 14:45:09',\n",
      "               ...\n",
      "               '2019-11-19 15:44:50', '2019-11-19 15:44:51',\n",
      "               '2019-11-19 15:44:52', '2019-11-19 15:44:53',\n",
      "               '2019-11-19 15:44:54', '2019-11-19 15:44:55',\n",
      "               '2019-11-19 15:44:56', '2019-11-19 15:44:57',\n",
      "               '2019-11-19 15:44:58', '2019-11-19 15:44:59'],\n",
      "              dtype='datetime64[ns]', length=3600, freq='S')\n"
     ]
    }
   ],
   "source": [
    "# to define a date, the datetime module is very useful\n",
    "import datetime as dt\n",
    "date = dt.date.today()\n",
    "date = dt.datetime(2018,11,19,14,45,10,15)\n",
    "print (date)\n",
    "\n",
    "# otherwise, several notations are interpreted too\n",
    "date = 'Nov 19 2019'\n",
    "date = '19/11/2019 14:45:00'\n",
    "print (date)\n",
    "\n",
    "days = pd.date_range(date, periods=7, freq='D')\n",
    "print (days)\n",
    "\n",
    "seconds = pd.date_range(date, periods=3600, freq='s')\n",
    "print (seconds)\n"
   ]
  },
  {
   "cell_type": "markdown",
   "metadata": {},
   "source": [
    "To learn more about the frequency strings, please see this [link](http://pandas.pydata.org/pandas-docs/stable/timeseries.html#offset-aliases)\n",
    "\n",
    "\n",
    "Timestamped data is the most basic type of time series data that associates values with points in time. For pandas objects it means using the points in time.\n",
    "\n",
    "functions like `pd.to_datetime` can be used, for instance, when reading information as string from a dataset"
   ]
  },
  {
   "cell_type": "code",
   "execution_count": 13,
   "metadata": {},
   "outputs": [
    {
     "name": "stdout",
     "output_type": "stream",
     "text": [
      "1574121600000000000\n",
      "2010-11-12 00:00:00\n",
      "2010-11-12 00:00:00\n"
     ]
    }
   ],
   "source": [
    "tstamp = pd.Timestamp(dt.datetime(2019, 11, 19))\n",
    "\n",
    "# internally it counts the nanoseconds from January 1st 19\n",
    "#tstamp = pd.Timestamp(dt.datetime(1970, 1, 1, 0, 0, 0, 1))\n",
    "print(tstamp.value)\n",
    "\n",
    "# when creating a timestamp the format can be explicitly passed\n",
    "print (pd.to_datetime('2010/11/12', format='%Y/%m/%d'))\n",
    "print (pd.to_datetime('12-11-2010 00:00', format='%d-%m-%Y %H:%M'))\n"
   ]
  },
  {
   "cell_type": "markdown",
   "metadata": {},
   "source": [
    "A standard series can be created and (range of) elements can be used as indexes"
   ]
  },
  {
   "cell_type": "code",
   "execution_count": 15,
   "metadata": {
    "scrolled": true
   },
   "outputs": [
    {
     "name": "stdout",
     "output_type": "stream",
     "text": [
      "2019-11-19 14:45:00     9.682456\n",
      "2019-11-20 14:45:00    10.595396\n",
      "2019-11-21 14:45:00     9.666798\n",
      "2019-11-22 14:45:00    10.181908\n",
      "Freq: D, dtype: float64 \n",
      "\n",
      "Series([], Freq: D, dtype: float64) \n",
      "\n"
     ]
    }
   ],
   "source": [
    "tseries = pd.Series(np.random.normal(10, 1, len(days)), index=days)\n",
    "# Extracting elements\n",
    "print (tseries[0:4], '\\n')\n",
    "print (tseries['2018-11-19':'2018-11-21'], '\\n') # Note - includes end time\n"
   ]
  },
  {
   "cell_type": "markdown",
   "metadata": {},
   "source": [
    "`pd.to_datetime` can also be used to create a `DatetimeIndex`:"
   ]
  },
  {
   "cell_type": "code",
   "execution_count": 16,
   "metadata": {},
   "outputs": [
    {
     "data": {
      "text/plain": [
       "DatetimeIndex(['1980-02-04', '1980-02-05', '1980-02-06'], dtype='datetime64[ns]', freq=None)"
      ]
     },
     "execution_count": 16,
     "metadata": {},
     "output_type": "execute_result"
    }
   ],
   "source": [
    "pd.to_datetime([1, 2, 3], unit='D', origin=pd.Timestamp('1980-02-03'))"
   ]
  },
  {
   "cell_type": "markdown",
   "metadata": {},
   "source": [
    "## DataFrame\n",
    "\n",
    "A pandas DataFrame is like a simple tabular spreadsheet. For future reference (or for people already familiar with R), a pandas DataFrame is very similar to the R DataFrame.\n",
    "\n",
    "Each column in a DataFrame is a Series object.\n",
    "\n",
    "The element can be whatever, missing data are dealt with too (as NaN)"
   ]
  },
  {
   "cell_type": "markdown",
   "metadata": {},
   "source": [
    "### DataFrame creation\n",
    "\n",
    "A DataFrame can be created implicitly, with, e.g., a DatatimeIndex object as index:"
   ]
  },
  {
   "cell_type": "code",
   "execution_count": 17,
   "metadata": {},
   "outputs": [
    {
     "data": {
      "text/html": [
       "<div>\n",
       "<style scoped>\n",
       "    .dataframe tbody tr th:only-of-type {\n",
       "        vertical-align: middle;\n",
       "    }\n",
       "\n",
       "    .dataframe tbody tr th {\n",
       "        vertical-align: top;\n",
       "    }\n",
       "\n",
       "    .dataframe thead th {\n",
       "        text-align: right;\n",
       "    }\n",
       "</style>\n",
       "<table border=\"1\" class=\"dataframe\">\n",
       "  <thead>\n",
       "    <tr style=\"text-align: right;\">\n",
       "      <th></th>\n",
       "      <th>A</th>\n",
       "      <th>B</th>\n",
       "      <th>C</th>\n",
       "      <th>D</th>\n",
       "    </tr>\n",
       "  </thead>\n",
       "  <tbody>\n",
       "    <tr>\n",
       "      <th>2018-11-19 14:45:00</th>\n",
       "      <td>-1.556792</td>\n",
       "      <td>-0.545761</td>\n",
       "      <td>-0.150988</td>\n",
       "      <td>-1.233492</td>\n",
       "    </tr>\n",
       "    <tr>\n",
       "      <th>2018-11-19 15:45:00</th>\n",
       "      <td>-0.157271</td>\n",
       "      <td>0.869741</td>\n",
       "      <td>-1.138529</td>\n",
       "      <td>0.067958</td>\n",
       "    </tr>\n",
       "    <tr>\n",
       "      <th>2018-11-19 16:45:00</th>\n",
       "      <td>2.607444</td>\n",
       "      <td>0.455125</td>\n",
       "      <td>-0.313257</td>\n",
       "      <td>-0.203130</td>\n",
       "    </tr>\n",
       "    <tr>\n",
       "      <th>2018-11-19 17:45:00</th>\n",
       "      <td>1.475013</td>\n",
       "      <td>0.117223</td>\n",
       "      <td>0.447630</td>\n",
       "      <td>1.466839</td>\n",
       "    </tr>\n",
       "    <tr>\n",
       "      <th>2018-11-19 18:45:00</th>\n",
       "      <td>-0.566478</td>\n",
       "      <td>-1.423130</td>\n",
       "      <td>-1.526628</td>\n",
       "      <td>-1.316082</td>\n",
       "    </tr>\n",
       "    <tr>\n",
       "      <th>2018-11-19 19:45:00</th>\n",
       "      <td>-0.381283</td>\n",
       "      <td>0.498645</td>\n",
       "      <td>0.496891</td>\n",
       "      <td>-1.187808</td>\n",
       "    </tr>\n",
       "    <tr>\n",
       "      <th>2018-11-19 20:45:00</th>\n",
       "      <td>0.446915</td>\n",
       "      <td>-0.003119</td>\n",
       "      <td>0.831505</td>\n",
       "      <td>-0.735448</td>\n",
       "    </tr>\n",
       "    <tr>\n",
       "      <th>2018-11-19 21:45:00</th>\n",
       "      <td>-1.900341</td>\n",
       "      <td>0.263457</td>\n",
       "      <td>-0.761536</td>\n",
       "      <td>-0.020679</td>\n",
       "    </tr>\n",
       "    <tr>\n",
       "      <th>2018-11-19 22:45:00</th>\n",
       "      <td>-0.922073</td>\n",
       "      <td>-0.637120</td>\n",
       "      <td>-0.177137</td>\n",
       "      <td>0.126522</td>\n",
       "    </tr>\n",
       "    <tr>\n",
       "      <th>2018-11-19 23:45:00</th>\n",
       "      <td>0.954173</td>\n",
       "      <td>-0.562154</td>\n",
       "      <td>-1.065822</td>\n",
       "      <td>-0.862335</td>\n",
       "    </tr>\n",
       "  </tbody>\n",
       "</table>\n",
       "</div>"
      ],
      "text/plain": [
       "                            A         B         C         D\n",
       "2018-11-19 14:45:00 -1.556792 -0.545761 -0.150988 -1.233492\n",
       "2018-11-19 15:45:00 -0.157271  0.869741 -1.138529  0.067958\n",
       "2018-11-19 16:45:00  2.607444  0.455125 -0.313257 -0.203130\n",
       "2018-11-19 17:45:00  1.475013  0.117223  0.447630  1.466839\n",
       "2018-11-19 18:45:00 -0.566478 -1.423130 -1.526628 -1.316082\n",
       "2018-11-19 19:45:00 -0.381283  0.498645  0.496891 -1.187808\n",
       "2018-11-19 20:45:00  0.446915 -0.003119  0.831505 -0.735448\n",
       "2018-11-19 21:45:00 -1.900341  0.263457 -0.761536 -0.020679\n",
       "2018-11-19 22:45:00 -0.922073 -0.637120 -0.177137  0.126522\n",
       "2018-11-19 23:45:00  0.954173 -0.562154 -1.065822 -0.862335"
      ]
     },
     "execution_count": 17,
     "metadata": {},
     "output_type": "execute_result"
    }
   ],
   "source": [
    "entries=10\n",
    "dates=pd.date_range('19/11/2018 14:45:00',freq='h', periods=entries)\n",
    "df = pd.DataFrame(np.random.randn(entries,4), index=dates, columns=['A','B','C','D'])\n",
    "df\n"
   ]
  },
  {
   "cell_type": "markdown",
   "metadata": {},
   "source": [
    "or by means of a dictionary:\n"
   ]
  },
  {
   "cell_type": "code",
   "execution_count": 19,
   "metadata": {},
   "outputs": [],
   "source": [
    "df2 = pd.DataFrame(\n",
    "    { 'A' : 1.,\n",
    "      'B' : pd.Timestamp('20130102'),\n",
    "      'C' : pd.Series(1,index=range(4),dtype='float32'),\n",
    "      'D' : np.arange(7,11),\n",
    "      'E' : pd.Categorical([\"test\",\"train\",\"test\",\"train\"]),\n",
    "    }\n",
    "    )\n",
    "   "
   ]
  },
  {
   "cell_type": "code",
   "execution_count": 20,
   "metadata": {},
   "outputs": [
    {
     "data": {
      "text/html": [
       "<div>\n",
       "<style scoped>\n",
       "    .dataframe tbody tr th:only-of-type {\n",
       "        vertical-align: middle;\n",
       "    }\n",
       "\n",
       "    .dataframe tbody tr th {\n",
       "        vertical-align: top;\n",
       "    }\n",
       "\n",
       "    .dataframe thead th {\n",
       "        text-align: right;\n",
       "    }\n",
       "</style>\n",
       "<table border=\"1\" class=\"dataframe\">\n",
       "  <thead>\n",
       "    <tr style=\"text-align: right;\">\n",
       "      <th></th>\n",
       "      <th>A</th>\n",
       "      <th>B</th>\n",
       "      <th>C</th>\n",
       "      <th>D</th>\n",
       "      <th>E</th>\n",
       "    </tr>\n",
       "  </thead>\n",
       "  <tbody>\n",
       "    <tr>\n",
       "      <th>0</th>\n",
       "      <td>1.0</td>\n",
       "      <td>2013-01-02</td>\n",
       "      <td>1.0</td>\n",
       "      <td>7</td>\n",
       "      <td>test</td>\n",
       "    </tr>\n",
       "    <tr>\n",
       "      <th>1</th>\n",
       "      <td>1.0</td>\n",
       "      <td>2013-01-02</td>\n",
       "      <td>1.0</td>\n",
       "      <td>8</td>\n",
       "      <td>train</td>\n",
       "    </tr>\n",
       "    <tr>\n",
       "      <th>2</th>\n",
       "      <td>1.0</td>\n",
       "      <td>2013-01-02</td>\n",
       "      <td>1.0</td>\n",
       "      <td>9</td>\n",
       "      <td>test</td>\n",
       "    </tr>\n",
       "    <tr>\n",
       "      <th>3</th>\n",
       "      <td>1.0</td>\n",
       "      <td>2013-01-02</td>\n",
       "      <td>1.0</td>\n",
       "      <td>10</td>\n",
       "      <td>train</td>\n",
       "    </tr>\n",
       "  </tbody>\n",
       "</table>\n",
       "</div>"
      ],
      "text/plain": [
       "     A          B    C   D      E\n",
       "0  1.0 2013-01-02  1.0   7   test\n",
       "1  1.0 2013-01-02  1.0   8  train\n",
       "2  1.0 2013-01-02  1.0   9   test\n",
       "3  1.0 2013-01-02  1.0  10  train"
      ]
     },
     "execution_count": 20,
     "metadata": {},
     "output_type": "execute_result"
    }
   ],
   "source": [
    "df2"
   ]
  },
  {
   "cell_type": "markdown",
   "metadata": {},
   "source": [
    "### Viewing Data"
   ]
  },
  {
   "cell_type": "code",
   "execution_count": 21,
   "metadata": {},
   "outputs": [
    {
     "data": {
      "text/html": [
       "<div>\n",
       "<style scoped>\n",
       "    .dataframe tbody tr th:only-of-type {\n",
       "        vertical-align: middle;\n",
       "    }\n",
       "\n",
       "    .dataframe tbody tr th {\n",
       "        vertical-align: top;\n",
       "    }\n",
       "\n",
       "    .dataframe thead th {\n",
       "        text-align: right;\n",
       "    }\n",
       "</style>\n",
       "<table border=\"1\" class=\"dataframe\">\n",
       "  <thead>\n",
       "    <tr style=\"text-align: right;\">\n",
       "      <th></th>\n",
       "      <th>A</th>\n",
       "      <th>B</th>\n",
       "      <th>C</th>\n",
       "      <th>D</th>\n",
       "    </tr>\n",
       "  </thead>\n",
       "  <tbody>\n",
       "    <tr>\n",
       "      <th>2018-11-19 14:45:00</th>\n",
       "      <td>-1.556792</td>\n",
       "      <td>-0.545761</td>\n",
       "      <td>-0.150988</td>\n",
       "      <td>-1.233492</td>\n",
       "    </tr>\n",
       "    <tr>\n",
       "      <th>2018-11-19 15:45:00</th>\n",
       "      <td>-0.157271</td>\n",
       "      <td>0.869741</td>\n",
       "      <td>-1.138529</td>\n",
       "      <td>0.067958</td>\n",
       "    </tr>\n",
       "    <tr>\n",
       "      <th>2018-11-19 16:45:00</th>\n",
       "      <td>2.607444</td>\n",
       "      <td>0.455125</td>\n",
       "      <td>-0.313257</td>\n",
       "      <td>-0.203130</td>\n",
       "    </tr>\n",
       "    <tr>\n",
       "      <th>2018-11-19 17:45:00</th>\n",
       "      <td>1.475013</td>\n",
       "      <td>0.117223</td>\n",
       "      <td>0.447630</td>\n",
       "      <td>1.466839</td>\n",
       "    </tr>\n",
       "    <tr>\n",
       "      <th>2018-11-19 18:45:00</th>\n",
       "      <td>-0.566478</td>\n",
       "      <td>-1.423130</td>\n",
       "      <td>-1.526628</td>\n",
       "      <td>-1.316082</td>\n",
       "    </tr>\n",
       "  </tbody>\n",
       "</table>\n",
       "</div>"
      ],
      "text/plain": [
       "                            A         B         C         D\n",
       "2018-11-19 14:45:00 -1.556792 -0.545761 -0.150988 -1.233492\n",
       "2018-11-19 15:45:00 -0.157271  0.869741 -1.138529  0.067958\n",
       "2018-11-19 16:45:00  2.607444  0.455125 -0.313257 -0.203130\n",
       "2018-11-19 17:45:00  1.475013  0.117223  0.447630  1.466839\n",
       "2018-11-19 18:45:00 -0.566478 -1.423130 -1.526628 -1.316082"
      ]
     },
     "execution_count": 21,
     "metadata": {},
     "output_type": "execute_result"
    }
   ],
   "source": [
    "df.head()"
   ]
  },
  {
   "cell_type": "code",
   "execution_count": 22,
   "metadata": {},
   "outputs": [
    {
     "data": {
      "text/html": [
       "<div>\n",
       "<style scoped>\n",
       "    .dataframe tbody tr th:only-of-type {\n",
       "        vertical-align: middle;\n",
       "    }\n",
       "\n",
       "    .dataframe tbody tr th {\n",
       "        vertical-align: top;\n",
       "    }\n",
       "\n",
       "    .dataframe thead th {\n",
       "        text-align: right;\n",
       "    }\n",
       "</style>\n",
       "<table border=\"1\" class=\"dataframe\">\n",
       "  <thead>\n",
       "    <tr style=\"text-align: right;\">\n",
       "      <th></th>\n",
       "      <th>A</th>\n",
       "      <th>B</th>\n",
       "      <th>C</th>\n",
       "      <th>D</th>\n",
       "    </tr>\n",
       "  </thead>\n",
       "  <tbody>\n",
       "    <tr>\n",
       "      <th>2018-11-19 20:45:00</th>\n",
       "      <td>0.446915</td>\n",
       "      <td>-0.003119</td>\n",
       "      <td>0.831505</td>\n",
       "      <td>-0.735448</td>\n",
       "    </tr>\n",
       "    <tr>\n",
       "      <th>2018-11-19 21:45:00</th>\n",
       "      <td>-1.900341</td>\n",
       "      <td>0.263457</td>\n",
       "      <td>-0.761536</td>\n",
       "      <td>-0.020679</td>\n",
       "    </tr>\n",
       "    <tr>\n",
       "      <th>2018-11-19 22:45:00</th>\n",
       "      <td>-0.922073</td>\n",
       "      <td>-0.637120</td>\n",
       "      <td>-0.177137</td>\n",
       "      <td>0.126522</td>\n",
       "    </tr>\n",
       "    <tr>\n",
       "      <th>2018-11-19 23:45:00</th>\n",
       "      <td>0.954173</td>\n",
       "      <td>-0.562154</td>\n",
       "      <td>-1.065822</td>\n",
       "      <td>-0.862335</td>\n",
       "    </tr>\n",
       "  </tbody>\n",
       "</table>\n",
       "</div>"
      ],
      "text/plain": [
       "                            A         B         C         D\n",
       "2018-11-19 20:45:00  0.446915 -0.003119  0.831505 -0.735448\n",
       "2018-11-19 21:45:00 -1.900341  0.263457 -0.761536 -0.020679\n",
       "2018-11-19 22:45:00 -0.922073 -0.637120 -0.177137  0.126522\n",
       "2018-11-19 23:45:00  0.954173 -0.562154 -1.065822 -0.862335"
      ]
     },
     "execution_count": 22,
     "metadata": {},
     "output_type": "execute_result"
    }
   ],
   "source": [
    "df.tail(4)"
   ]
  },
  {
   "cell_type": "code",
   "execution_count": 23,
   "metadata": {},
   "outputs": [
    {
     "data": {
      "text/plain": [
       "DatetimeIndex(['2018-11-19 14:45:00', '2018-11-19 15:45:00',\n",
       "               '2018-11-19 16:45:00', '2018-11-19 17:45:00',\n",
       "               '2018-11-19 18:45:00', '2018-11-19 19:45:00',\n",
       "               '2018-11-19 20:45:00', '2018-11-19 21:45:00',\n",
       "               '2018-11-19 22:45:00', '2018-11-19 23:45:00'],\n",
       "              dtype='datetime64[ns]', freq='H')"
      ]
     },
     "execution_count": 23,
     "metadata": {},
     "output_type": "execute_result"
    }
   ],
   "source": [
    "df.index"
   ]
  },
  {
   "cell_type": "code",
   "execution_count": 24,
   "metadata": {},
   "outputs": [
    {
     "data": {
      "text/plain": [
       "Index(['A', 'B', 'C', 'D'], dtype='object')"
      ]
     },
     "execution_count": 24,
     "metadata": {},
     "output_type": "execute_result"
    }
   ],
   "source": [
    "df.columns"
   ]
  },
  {
   "cell_type": "code",
   "execution_count": 25,
   "metadata": {},
   "outputs": [
    {
     "data": {
      "text/plain": [
       "array([[-1.55679215, -0.54576126, -0.15098766, -1.23349219],\n",
       "       [-0.15727124,  0.86974053, -1.13852852,  0.06795797],\n",
       "       [ 2.6074442 ,  0.45512481, -0.31325672, -0.20313018],\n",
       "       [ 1.47501311,  0.11722346,  0.44763009,  1.46683889],\n",
       "       [-0.56647763, -1.42312981, -1.52662765, -1.31608175],\n",
       "       [-0.38128256,  0.49864513,  0.49689141, -1.18780782],\n",
       "       [ 0.44691505, -0.00311903,  0.83150515, -0.73544792],\n",
       "       [-1.90034053,  0.26345694, -0.76153594, -0.0206787 ],\n",
       "       [-0.92207309, -0.63712038, -0.17713688,  0.12652243],\n",
       "       [ 0.95417263, -0.56215448, -1.06582164, -0.86233502]])"
      ]
     },
     "execution_count": 25,
     "metadata": {},
     "output_type": "execute_result"
    }
   ],
   "source": [
    "df.values"
   ]
  },
  {
   "cell_type": "code",
   "execution_count": 26,
   "metadata": {},
   "outputs": [
    {
     "data": {
      "text/html": [
       "<div>\n",
       "<style scoped>\n",
       "    .dataframe tbody tr th:only-of-type {\n",
       "        vertical-align: middle;\n",
       "    }\n",
       "\n",
       "    .dataframe tbody tr th {\n",
       "        vertical-align: top;\n",
       "    }\n",
       "\n",
       "    .dataframe thead th {\n",
       "        text-align: right;\n",
       "    }\n",
       "</style>\n",
       "<table border=\"1\" class=\"dataframe\">\n",
       "  <thead>\n",
       "    <tr style=\"text-align: right;\">\n",
       "      <th></th>\n",
       "      <th>A</th>\n",
       "      <th>B</th>\n",
       "      <th>C</th>\n",
       "      <th>D</th>\n",
       "    </tr>\n",
       "  </thead>\n",
       "  <tbody>\n",
       "    <tr>\n",
       "      <th>count</th>\n",
       "      <td>10.000000</td>\n",
       "      <td>10.000000</td>\n",
       "      <td>10.000000</td>\n",
       "      <td>10.000000</td>\n",
       "    </tr>\n",
       "    <tr>\n",
       "      <th>mean</th>\n",
       "      <td>-0.000069</td>\n",
       "      <td>-0.096709</td>\n",
       "      <td>-0.335787</td>\n",
       "      <td>-0.389765</td>\n",
       "    </tr>\n",
       "    <tr>\n",
       "      <th>std</th>\n",
       "      <td>1.392868</td>\n",
       "      <td>0.686939</td>\n",
       "      <td>0.782177</td>\n",
       "      <td>0.859181</td>\n",
       "    </tr>\n",
       "    <tr>\n",
       "      <th>min</th>\n",
       "      <td>-1.900341</td>\n",
       "      <td>-1.423130</td>\n",
       "      <td>-1.526628</td>\n",
       "      <td>-1.316082</td>\n",
       "    </tr>\n",
       "    <tr>\n",
       "      <th>25%</th>\n",
       "      <td>-0.833174</td>\n",
       "      <td>-0.558056</td>\n",
       "      <td>-0.989750</td>\n",
       "      <td>-1.106440</td>\n",
       "    </tr>\n",
       "    <tr>\n",
       "      <th>50%</th>\n",
       "      <td>-0.269277</td>\n",
       "      <td>0.057052</td>\n",
       "      <td>-0.245197</td>\n",
       "      <td>-0.469289</td>\n",
       "    </tr>\n",
       "    <tr>\n",
       "      <th>75%</th>\n",
       "      <td>0.827358</td>\n",
       "      <td>0.407208</td>\n",
       "      <td>0.297976</td>\n",
       "      <td>0.045799</td>\n",
       "    </tr>\n",
       "    <tr>\n",
       "      <th>max</th>\n",
       "      <td>2.607444</td>\n",
       "      <td>0.869741</td>\n",
       "      <td>0.831505</td>\n",
       "      <td>1.466839</td>\n",
       "    </tr>\n",
       "  </tbody>\n",
       "</table>\n",
       "</div>"
      ],
      "text/plain": [
       "               A          B          C          D\n",
       "count  10.000000  10.000000  10.000000  10.000000\n",
       "mean   -0.000069  -0.096709  -0.335787  -0.389765\n",
       "std     1.392868   0.686939   0.782177   0.859181\n",
       "min    -1.900341  -1.423130  -1.526628  -1.316082\n",
       "25%    -0.833174  -0.558056  -0.989750  -1.106440\n",
       "50%    -0.269277   0.057052  -0.245197  -0.469289\n",
       "75%     0.827358   0.407208   0.297976   0.045799\n",
       "max     2.607444   0.869741   0.831505   1.466839"
      ]
     },
     "execution_count": 26,
     "metadata": {},
     "output_type": "execute_result"
    }
   ],
   "source": [
    "df.describe()"
   ]
  },
  {
   "cell_type": "code",
   "execution_count": 27,
   "metadata": {},
   "outputs": [
    {
     "data": {
      "text/html": [
       "<div>\n",
       "<style scoped>\n",
       "    .dataframe tbody tr th:only-of-type {\n",
       "        vertical-align: middle;\n",
       "    }\n",
       "\n",
       "    .dataframe tbody tr th {\n",
       "        vertical-align: top;\n",
       "    }\n",
       "\n",
       "    .dataframe thead th {\n",
       "        text-align: right;\n",
       "    }\n",
       "</style>\n",
       "<table border=\"1\" class=\"dataframe\">\n",
       "  <thead>\n",
       "    <tr style=\"text-align: right;\">\n",
       "      <th></th>\n",
       "      <th>2018-11-19 14:45:00</th>\n",
       "      <th>2018-11-19 15:45:00</th>\n",
       "      <th>2018-11-19 16:45:00</th>\n",
       "      <th>2018-11-19 17:45:00</th>\n",
       "      <th>2018-11-19 18:45:00</th>\n",
       "      <th>2018-11-19 19:45:00</th>\n",
       "      <th>2018-11-19 20:45:00</th>\n",
       "      <th>2018-11-19 21:45:00</th>\n",
       "      <th>2018-11-19 22:45:00</th>\n",
       "      <th>2018-11-19 23:45:00</th>\n",
       "    </tr>\n",
       "  </thead>\n",
       "  <tbody>\n",
       "    <tr>\n",
       "      <th>A</th>\n",
       "      <td>-1.556792</td>\n",
       "      <td>-0.157271</td>\n",
       "      <td>2.607444</td>\n",
       "      <td>1.475013</td>\n",
       "      <td>-0.566478</td>\n",
       "      <td>-0.381283</td>\n",
       "      <td>0.446915</td>\n",
       "      <td>-1.900341</td>\n",
       "      <td>-0.922073</td>\n",
       "      <td>0.954173</td>\n",
       "    </tr>\n",
       "    <tr>\n",
       "      <th>B</th>\n",
       "      <td>-0.545761</td>\n",
       "      <td>0.869741</td>\n",
       "      <td>0.455125</td>\n",
       "      <td>0.117223</td>\n",
       "      <td>-1.423130</td>\n",
       "      <td>0.498645</td>\n",
       "      <td>-0.003119</td>\n",
       "      <td>0.263457</td>\n",
       "      <td>-0.637120</td>\n",
       "      <td>-0.562154</td>\n",
       "    </tr>\n",
       "    <tr>\n",
       "      <th>C</th>\n",
       "      <td>-0.150988</td>\n",
       "      <td>-1.138529</td>\n",
       "      <td>-0.313257</td>\n",
       "      <td>0.447630</td>\n",
       "      <td>-1.526628</td>\n",
       "      <td>0.496891</td>\n",
       "      <td>0.831505</td>\n",
       "      <td>-0.761536</td>\n",
       "      <td>-0.177137</td>\n",
       "      <td>-1.065822</td>\n",
       "    </tr>\n",
       "    <tr>\n",
       "      <th>D</th>\n",
       "      <td>-1.233492</td>\n",
       "      <td>0.067958</td>\n",
       "      <td>-0.203130</td>\n",
       "      <td>1.466839</td>\n",
       "      <td>-1.316082</td>\n",
       "      <td>-1.187808</td>\n",
       "      <td>-0.735448</td>\n",
       "      <td>-0.020679</td>\n",
       "      <td>0.126522</td>\n",
       "      <td>-0.862335</td>\n",
       "    </tr>\n",
       "  </tbody>\n",
       "</table>\n",
       "</div>"
      ],
      "text/plain": [
       "   2018-11-19 14:45:00  2018-11-19 15:45:00  2018-11-19 16:45:00  \\\n",
       "A            -1.556792            -0.157271             2.607444   \n",
       "B            -0.545761             0.869741             0.455125   \n",
       "C            -0.150988            -1.138529            -0.313257   \n",
       "D            -1.233492             0.067958            -0.203130   \n",
       "\n",
       "   2018-11-19 17:45:00  2018-11-19 18:45:00  2018-11-19 19:45:00  \\\n",
       "A             1.475013            -0.566478            -0.381283   \n",
       "B             0.117223            -1.423130             0.498645   \n",
       "C             0.447630            -1.526628             0.496891   \n",
       "D             1.466839            -1.316082            -1.187808   \n",
       "\n",
       "   2018-11-19 20:45:00  2018-11-19 21:45:00  2018-11-19 22:45:00  \\\n",
       "A             0.446915            -1.900341            -0.922073   \n",
       "B            -0.003119             0.263457            -0.637120   \n",
       "C             0.831505            -0.761536            -0.177137   \n",
       "D            -0.735448            -0.020679             0.126522   \n",
       "\n",
       "   2018-11-19 23:45:00  \n",
       "A             0.954173  \n",
       "B            -0.562154  \n",
       "C            -1.065822  \n",
       "D            -0.862335  "
      ]
     },
     "execution_count": 27,
     "metadata": {},
     "output_type": "execute_result"
    }
   ],
   "source": [
    "df.T"
   ]
  },
  {
   "cell_type": "code",
   "execution_count": 28,
   "metadata": {},
   "outputs": [
    {
     "data": {
      "text/html": [
       "<div>\n",
       "<style scoped>\n",
       "    .dataframe tbody tr th:only-of-type {\n",
       "        vertical-align: middle;\n",
       "    }\n",
       "\n",
       "    .dataframe tbody tr th {\n",
       "        vertical-align: top;\n",
       "    }\n",
       "\n",
       "    .dataframe thead th {\n",
       "        text-align: right;\n",
       "    }\n",
       "</style>\n",
       "<table border=\"1\" class=\"dataframe\">\n",
       "  <thead>\n",
       "    <tr style=\"text-align: right;\">\n",
       "      <th></th>\n",
       "      <th>D</th>\n",
       "      <th>C</th>\n",
       "      <th>B</th>\n",
       "      <th>A</th>\n",
       "    </tr>\n",
       "  </thead>\n",
       "  <tbody>\n",
       "    <tr>\n",
       "      <th>2018-11-19 14:45:00</th>\n",
       "      <td>-1.233492</td>\n",
       "      <td>-0.150988</td>\n",
       "      <td>-0.545761</td>\n",
       "      <td>-1.556792</td>\n",
       "    </tr>\n",
       "    <tr>\n",
       "      <th>2018-11-19 15:45:00</th>\n",
       "      <td>0.067958</td>\n",
       "      <td>-1.138529</td>\n",
       "      <td>0.869741</td>\n",
       "      <td>-0.157271</td>\n",
       "    </tr>\n",
       "    <tr>\n",
       "      <th>2018-11-19 16:45:00</th>\n",
       "      <td>-0.203130</td>\n",
       "      <td>-0.313257</td>\n",
       "      <td>0.455125</td>\n",
       "      <td>2.607444</td>\n",
       "    </tr>\n",
       "    <tr>\n",
       "      <th>2018-11-19 17:45:00</th>\n",
       "      <td>1.466839</td>\n",
       "      <td>0.447630</td>\n",
       "      <td>0.117223</td>\n",
       "      <td>1.475013</td>\n",
       "    </tr>\n",
       "    <tr>\n",
       "      <th>2018-11-19 18:45:00</th>\n",
       "      <td>-1.316082</td>\n",
       "      <td>-1.526628</td>\n",
       "      <td>-1.423130</td>\n",
       "      <td>-0.566478</td>\n",
       "    </tr>\n",
       "    <tr>\n",
       "      <th>2018-11-19 19:45:00</th>\n",
       "      <td>-1.187808</td>\n",
       "      <td>0.496891</td>\n",
       "      <td>0.498645</td>\n",
       "      <td>-0.381283</td>\n",
       "    </tr>\n",
       "    <tr>\n",
       "      <th>2018-11-19 20:45:00</th>\n",
       "      <td>-0.735448</td>\n",
       "      <td>0.831505</td>\n",
       "      <td>-0.003119</td>\n",
       "      <td>0.446915</td>\n",
       "    </tr>\n",
       "    <tr>\n",
       "      <th>2018-11-19 21:45:00</th>\n",
       "      <td>-0.020679</td>\n",
       "      <td>-0.761536</td>\n",
       "      <td>0.263457</td>\n",
       "      <td>-1.900341</td>\n",
       "    </tr>\n",
       "    <tr>\n",
       "      <th>2018-11-19 22:45:00</th>\n",
       "      <td>0.126522</td>\n",
       "      <td>-0.177137</td>\n",
       "      <td>-0.637120</td>\n",
       "      <td>-0.922073</td>\n",
       "    </tr>\n",
       "    <tr>\n",
       "      <th>2018-11-19 23:45:00</th>\n",
       "      <td>-0.862335</td>\n",
       "      <td>-1.065822</td>\n",
       "      <td>-0.562154</td>\n",
       "      <td>0.954173</td>\n",
       "    </tr>\n",
       "  </tbody>\n",
       "</table>\n",
       "</div>"
      ],
      "text/plain": [
       "                            D         C         B         A\n",
       "2018-11-19 14:45:00 -1.233492 -0.150988 -0.545761 -1.556792\n",
       "2018-11-19 15:45:00  0.067958 -1.138529  0.869741 -0.157271\n",
       "2018-11-19 16:45:00 -0.203130 -0.313257  0.455125  2.607444\n",
       "2018-11-19 17:45:00  1.466839  0.447630  0.117223  1.475013\n",
       "2018-11-19 18:45:00 -1.316082 -1.526628 -1.423130 -0.566478\n",
       "2018-11-19 19:45:00 -1.187808  0.496891  0.498645 -0.381283\n",
       "2018-11-19 20:45:00 -0.735448  0.831505 -0.003119  0.446915\n",
       "2018-11-19 21:45:00 -0.020679 -0.761536  0.263457 -1.900341\n",
       "2018-11-19 22:45:00  0.126522 -0.177137 -0.637120 -0.922073\n",
       "2018-11-19 23:45:00 -0.862335 -1.065822 -0.562154  0.954173"
      ]
     },
     "execution_count": 28,
     "metadata": {},
     "output_type": "execute_result"
    }
   ],
   "source": [
    "df.sort_index(axis=1,ascending=False)"
   ]
  },
  {
   "cell_type": "code",
   "execution_count": 29,
   "metadata": {},
   "outputs": [
    {
     "data": {
      "text/html": [
       "<div>\n",
       "<style scoped>\n",
       "    .dataframe tbody tr th:only-of-type {\n",
       "        vertical-align: middle;\n",
       "    }\n",
       "\n",
       "    .dataframe tbody tr th {\n",
       "        vertical-align: top;\n",
       "    }\n",
       "\n",
       "    .dataframe thead th {\n",
       "        text-align: right;\n",
       "    }\n",
       "</style>\n",
       "<table border=\"1\" class=\"dataframe\">\n",
       "  <thead>\n",
       "    <tr style=\"text-align: right;\">\n",
       "      <th></th>\n",
       "      <th>A</th>\n",
       "      <th>B</th>\n",
       "      <th>C</th>\n",
       "      <th>D</th>\n",
       "    </tr>\n",
       "  </thead>\n",
       "  <tbody>\n",
       "    <tr>\n",
       "      <th>2018-11-19 18:45:00</th>\n",
       "      <td>-0.566478</td>\n",
       "      <td>-1.423130</td>\n",
       "      <td>-1.526628</td>\n",
       "      <td>-1.316082</td>\n",
       "    </tr>\n",
       "    <tr>\n",
       "      <th>2018-11-19 15:45:00</th>\n",
       "      <td>-0.157271</td>\n",
       "      <td>0.869741</td>\n",
       "      <td>-1.138529</td>\n",
       "      <td>0.067958</td>\n",
       "    </tr>\n",
       "    <tr>\n",
       "      <th>2018-11-19 23:45:00</th>\n",
       "      <td>0.954173</td>\n",
       "      <td>-0.562154</td>\n",
       "      <td>-1.065822</td>\n",
       "      <td>-0.862335</td>\n",
       "    </tr>\n",
       "    <tr>\n",
       "      <th>2018-11-19 21:45:00</th>\n",
       "      <td>-1.900341</td>\n",
       "      <td>0.263457</td>\n",
       "      <td>-0.761536</td>\n",
       "      <td>-0.020679</td>\n",
       "    </tr>\n",
       "    <tr>\n",
       "      <th>2018-11-19 16:45:00</th>\n",
       "      <td>2.607444</td>\n",
       "      <td>0.455125</td>\n",
       "      <td>-0.313257</td>\n",
       "      <td>-0.203130</td>\n",
       "    </tr>\n",
       "    <tr>\n",
       "      <th>2018-11-19 22:45:00</th>\n",
       "      <td>-0.922073</td>\n",
       "      <td>-0.637120</td>\n",
       "      <td>-0.177137</td>\n",
       "      <td>0.126522</td>\n",
       "    </tr>\n",
       "    <tr>\n",
       "      <th>2018-11-19 14:45:00</th>\n",
       "      <td>-1.556792</td>\n",
       "      <td>-0.545761</td>\n",
       "      <td>-0.150988</td>\n",
       "      <td>-1.233492</td>\n",
       "    </tr>\n",
       "    <tr>\n",
       "      <th>2018-11-19 17:45:00</th>\n",
       "      <td>1.475013</td>\n",
       "      <td>0.117223</td>\n",
       "      <td>0.447630</td>\n",
       "      <td>1.466839</td>\n",
       "    </tr>\n",
       "    <tr>\n",
       "      <th>2018-11-19 19:45:00</th>\n",
       "      <td>-0.381283</td>\n",
       "      <td>0.498645</td>\n",
       "      <td>0.496891</td>\n",
       "      <td>-1.187808</td>\n",
       "    </tr>\n",
       "    <tr>\n",
       "      <th>2018-11-19 20:45:00</th>\n",
       "      <td>0.446915</td>\n",
       "      <td>-0.003119</td>\n",
       "      <td>0.831505</td>\n",
       "      <td>-0.735448</td>\n",
       "    </tr>\n",
       "  </tbody>\n",
       "</table>\n",
       "</div>"
      ],
      "text/plain": [
       "                            A         B         C         D\n",
       "2018-11-19 18:45:00 -0.566478 -1.423130 -1.526628 -1.316082\n",
       "2018-11-19 15:45:00 -0.157271  0.869741 -1.138529  0.067958\n",
       "2018-11-19 23:45:00  0.954173 -0.562154 -1.065822 -0.862335\n",
       "2018-11-19 21:45:00 -1.900341  0.263457 -0.761536 -0.020679\n",
       "2018-11-19 16:45:00  2.607444  0.455125 -0.313257 -0.203130\n",
       "2018-11-19 22:45:00 -0.922073 -0.637120 -0.177137  0.126522\n",
       "2018-11-19 14:45:00 -1.556792 -0.545761 -0.150988 -1.233492\n",
       "2018-11-19 17:45:00  1.475013  0.117223  0.447630  1.466839\n",
       "2018-11-19 19:45:00 -0.381283  0.498645  0.496891 -1.187808\n",
       "2018-11-19 20:45:00  0.446915 -0.003119  0.831505 -0.735448"
      ]
     },
     "execution_count": 29,
     "metadata": {},
     "output_type": "execute_result"
    }
   ],
   "source": [
    "df.sort_values(by=\"C\")"
   ]
  },
  {
   "cell_type": "markdown",
   "metadata": {},
   "source": [
    "## Selection\n",
    "\n",
    "### Getting slices\n",
    "\n",
    "The following show how to get part of the DataFrame (i.e. not just the elements)"
   ]
  },
  {
   "cell_type": "code",
   "execution_count": 30,
   "metadata": {},
   "outputs": [
    {
     "name": "stdout",
     "output_type": "stream",
     "text": [
      "2018-11-19 14:45:00   -1.556792\n",
      "2018-11-19 15:45:00   -0.157271\n",
      "2018-11-19 16:45:00    2.607444\n",
      "2018-11-19 17:45:00    1.475013\n",
      "2018-11-19 18:45:00   -0.566478\n",
      "2018-11-19 19:45:00   -0.381283\n",
      "2018-11-19 20:45:00    0.446915\n",
      "2018-11-19 21:45:00   -1.900341\n",
      "2018-11-19 22:45:00   -0.922073\n",
      "2018-11-19 23:45:00    0.954173\n",
      "Freq: H, Name: A, dtype: float64 \n",
      "\n",
      "2018-11-19 14:45:00   -1.556792\n",
      "2018-11-19 15:45:00   -0.157271\n",
      "2018-11-19 16:45:00    2.607444\n",
      "2018-11-19 17:45:00    1.475013\n",
      "2018-11-19 18:45:00   -0.566478\n",
      "2018-11-19 19:45:00   -0.381283\n",
      "2018-11-19 20:45:00    0.446915\n",
      "2018-11-19 21:45:00   -1.900341\n",
      "2018-11-19 22:45:00   -0.922073\n",
      "2018-11-19 23:45:00    0.954173\n",
      "Freq: H, Name: A, dtype: float64\n"
     ]
    }
   ],
   "source": [
    "## standard and safe\n",
    "print (df['A'],'\\n')\n",
    "\n",
    "## equivalent but dangerous (imagine blank spaces in the name of the column..)\n",
    "print (df.A)"
   ]
  },
  {
   "cell_type": "code",
   "execution_count": 31,
   "metadata": {},
   "outputs": [
    {
     "name": "stdout",
     "output_type": "stream",
     "text": [
      "                            A         B         C         D\n",
      "2018-11-19 14:45:00 -1.556792 -0.545761 -0.150988 -1.233492\n",
      "2018-11-19 15:45:00 -0.157271  0.869741 -1.138529  0.067958\n",
      "2018-11-19 16:45:00  2.607444  0.455125 -0.313257 -0.203130\n",
      "                            A         B         C         D\n",
      "2018-11-19 14:45:00 -1.556792 -0.545761 -0.150988 -1.233492\n",
      "2018-11-19 15:45:00 -0.157271  0.869741 -1.138529  0.067958\n",
      "2018-11-19 16:45:00  2.607444  0.455125 -0.313257 -0.203130\n"
     ]
    }
   ],
   "source": [
    "# selecting rows by counting\n",
    "print (df[0:3])\n",
    "\n",
    "# or by index\n",
    "print (df[\"2018-11-19 14:45:00\":\"2018-11-19 16:45:00\"])"
   ]
  },
  {
   "cell_type": "markdown",
   "metadata": {},
   "source": [
    "### Selection by label"
   ]
  },
  {
   "cell_type": "code",
   "execution_count": null,
   "metadata": {},
   "outputs": [],
   "source": [
    "# getting a cross section (part of the DataFrame) using a label\n",
    "df.loc[dates[0]]"
   ]
  },
  {
   "cell_type": "code",
   "execution_count": null,
   "metadata": {},
   "outputs": [],
   "source": [
    "# selecting on a multi-axis by label:\n",
    "df.loc[:,['A','B']]"
   ]
  },
  {
   "cell_type": "code",
   "execution_count": null,
   "metadata": {},
   "outputs": [],
   "source": [
    "# showing label slicing, both endpoints are included:\n",
    "df.loc['2018-11-19 18:45:00':'2018-11-19 20:45:00',['A','B']]"
   ]
  },
  {
   "cell_type": "code",
   "execution_count": null,
   "metadata": {},
   "outputs": [],
   "source": [
    "# getting an individual element\n",
    "print (df.loc[dates[1],'A'])\n",
    "\n",
    "# equivalently\n",
    "print (df.at[dates[1],'A'])"
   ]
  },
  {
   "cell_type": "markdown",
   "metadata": {},
   "source": [
    "### Selecting by position"
   ]
  },
  {
   "cell_type": "code",
   "execution_count": null,
   "metadata": {},
   "outputs": [],
   "source": [
    "# select via the position of the passed integers:\n",
    "print (df.iloc[3],'\\n')\n",
    "\n",
    "# notation similar to numpy/python\n",
    "print (df.iloc[3:5,0:2])"
   ]
  },
  {
   "cell_type": "code",
   "execution_count": null,
   "metadata": {},
   "outputs": [],
   "source": [
    "# selecting raws 1,2 and 4 for columns 0 and 2\n",
    "df.iloc[[1,2,4],[0,2]]"
   ]
  },
  {
   "cell_type": "code",
   "execution_count": null,
   "metadata": {},
   "outputs": [],
   "source": [
    "# slicing rows explicitly\n",
    "print (df.iloc[1:3,:],'\\n')\n",
    "\n",
    "# slicing columns explicitly\n",
    "print (df.iloc[:,1:3])\n"
   ]
  },
  {
   "cell_type": "code",
   "execution_count": null,
   "metadata": {},
   "outputs": [],
   "source": [
    "# selecting an individual element by position\n",
    "df.iloc[1,1]\n",
    "df.iat[1,1]\n"
   ]
  },
  {
   "cell_type": "markdown",
   "metadata": {},
   "source": [
    "### Boolean index\n",
    "\n",
    "Very powerful way of filtering out data with certain features. Notation is very similar to numpy arrays."
   ]
  },
  {
   "cell_type": "code",
   "execution_count": 32,
   "metadata": {},
   "outputs": [
    {
     "data": {
      "text/html": [
       "<div>\n",
       "<style scoped>\n",
       "    .dataframe tbody tr th:only-of-type {\n",
       "        vertical-align: middle;\n",
       "    }\n",
       "\n",
       "    .dataframe tbody tr th {\n",
       "        vertical-align: top;\n",
       "    }\n",
       "\n",
       "    .dataframe thead th {\n",
       "        text-align: right;\n",
       "    }\n",
       "</style>\n",
       "<table border=\"1\" class=\"dataframe\">\n",
       "  <thead>\n",
       "    <tr style=\"text-align: right;\">\n",
       "      <th></th>\n",
       "      <th>A</th>\n",
       "      <th>B</th>\n",
       "      <th>C</th>\n",
       "      <th>D</th>\n",
       "    </tr>\n",
       "  </thead>\n",
       "  <tbody>\n",
       "    <tr>\n",
       "      <th>2018-11-19 15:45:00</th>\n",
       "      <td>-0.157271</td>\n",
       "      <td>0.869741</td>\n",
       "      <td>-1.138529</td>\n",
       "      <td>0.067958</td>\n",
       "    </tr>\n",
       "    <tr>\n",
       "      <th>2018-11-19 16:45:00</th>\n",
       "      <td>2.607444</td>\n",
       "      <td>0.455125</td>\n",
       "      <td>-0.313257</td>\n",
       "      <td>-0.203130</td>\n",
       "    </tr>\n",
       "    <tr>\n",
       "      <th>2018-11-19 17:45:00</th>\n",
       "      <td>1.475013</td>\n",
       "      <td>0.117223</td>\n",
       "      <td>0.447630</td>\n",
       "      <td>1.466839</td>\n",
       "    </tr>\n",
       "    <tr>\n",
       "      <th>2018-11-19 19:45:00</th>\n",
       "      <td>-0.381283</td>\n",
       "      <td>0.498645</td>\n",
       "      <td>0.496891</td>\n",
       "      <td>-1.187808</td>\n",
       "    </tr>\n",
       "    <tr>\n",
       "      <th>2018-11-19 21:45:00</th>\n",
       "      <td>-1.900341</td>\n",
       "      <td>0.263457</td>\n",
       "      <td>-0.761536</td>\n",
       "      <td>-0.020679</td>\n",
       "    </tr>\n",
       "  </tbody>\n",
       "</table>\n",
       "</div>"
      ],
      "text/plain": [
       "                            A         B         C         D\n",
       "2018-11-19 15:45:00 -0.157271  0.869741 -1.138529  0.067958\n",
       "2018-11-19 16:45:00  2.607444  0.455125 -0.313257 -0.203130\n",
       "2018-11-19 17:45:00  1.475013  0.117223  0.447630  1.466839\n",
       "2018-11-19 19:45:00 -0.381283  0.498645  0.496891 -1.187808\n",
       "2018-11-19 21:45:00 -1.900341  0.263457 -0.761536 -0.020679"
      ]
     },
     "execution_count": 32,
     "metadata": {},
     "output_type": "execute_result"
    }
   ],
   "source": [
    "# Filter by a boolean condition on the values of a single column\n",
    "df[df['B'] > 0]"
   ]
  },
  {
   "cell_type": "code",
   "execution_count": 33,
   "metadata": {},
   "outputs": [
    {
     "data": {
      "text/html": [
       "<div>\n",
       "<style scoped>\n",
       "    .dataframe tbody tr th:only-of-type {\n",
       "        vertical-align: middle;\n",
       "    }\n",
       "\n",
       "    .dataframe tbody tr th {\n",
       "        vertical-align: top;\n",
       "    }\n",
       "\n",
       "    .dataframe thead th {\n",
       "        text-align: right;\n",
       "    }\n",
       "</style>\n",
       "<table border=\"1\" class=\"dataframe\">\n",
       "  <thead>\n",
       "    <tr style=\"text-align: right;\">\n",
       "      <th></th>\n",
       "      <th>A</th>\n",
       "      <th>B</th>\n",
       "      <th>C</th>\n",
       "      <th>D</th>\n",
       "    </tr>\n",
       "  </thead>\n",
       "  <tbody>\n",
       "    <tr>\n",
       "      <th>2018-11-19 14:45:00</th>\n",
       "      <td>NaN</td>\n",
       "      <td>NaN</td>\n",
       "      <td>NaN</td>\n",
       "      <td>NaN</td>\n",
       "    </tr>\n",
       "    <tr>\n",
       "      <th>2018-11-19 15:45:00</th>\n",
       "      <td>NaN</td>\n",
       "      <td>0.869741</td>\n",
       "      <td>NaN</td>\n",
       "      <td>0.067958</td>\n",
       "    </tr>\n",
       "    <tr>\n",
       "      <th>2018-11-19 16:45:00</th>\n",
       "      <td>2.607444</td>\n",
       "      <td>0.455125</td>\n",
       "      <td>NaN</td>\n",
       "      <td>NaN</td>\n",
       "    </tr>\n",
       "    <tr>\n",
       "      <th>2018-11-19 17:45:00</th>\n",
       "      <td>1.475013</td>\n",
       "      <td>0.117223</td>\n",
       "      <td>0.447630</td>\n",
       "      <td>1.466839</td>\n",
       "    </tr>\n",
       "    <tr>\n",
       "      <th>2018-11-19 18:45:00</th>\n",
       "      <td>NaN</td>\n",
       "      <td>NaN</td>\n",
       "      <td>NaN</td>\n",
       "      <td>NaN</td>\n",
       "    </tr>\n",
       "    <tr>\n",
       "      <th>2018-11-19 19:45:00</th>\n",
       "      <td>NaN</td>\n",
       "      <td>0.498645</td>\n",
       "      <td>0.496891</td>\n",
       "      <td>NaN</td>\n",
       "    </tr>\n",
       "    <tr>\n",
       "      <th>2018-11-19 20:45:00</th>\n",
       "      <td>0.446915</td>\n",
       "      <td>NaN</td>\n",
       "      <td>0.831505</td>\n",
       "      <td>NaN</td>\n",
       "    </tr>\n",
       "    <tr>\n",
       "      <th>2018-11-19 21:45:00</th>\n",
       "      <td>NaN</td>\n",
       "      <td>0.263457</td>\n",
       "      <td>NaN</td>\n",
       "      <td>NaN</td>\n",
       "    </tr>\n",
       "    <tr>\n",
       "      <th>2018-11-19 22:45:00</th>\n",
       "      <td>NaN</td>\n",
       "      <td>NaN</td>\n",
       "      <td>NaN</td>\n",
       "      <td>0.126522</td>\n",
       "    </tr>\n",
       "    <tr>\n",
       "      <th>2018-11-19 23:45:00</th>\n",
       "      <td>0.954173</td>\n",
       "      <td>NaN</td>\n",
       "      <td>NaN</td>\n",
       "      <td>NaN</td>\n",
       "    </tr>\n",
       "  </tbody>\n",
       "</table>\n",
       "</div>"
      ],
      "text/plain": [
       "                            A         B         C         D\n",
       "2018-11-19 14:45:00       NaN       NaN       NaN       NaN\n",
       "2018-11-19 15:45:00       NaN  0.869741       NaN  0.067958\n",
       "2018-11-19 16:45:00  2.607444  0.455125       NaN       NaN\n",
       "2018-11-19 17:45:00  1.475013  0.117223  0.447630  1.466839\n",
       "2018-11-19 18:45:00       NaN       NaN       NaN       NaN\n",
       "2018-11-19 19:45:00       NaN  0.498645  0.496891       NaN\n",
       "2018-11-19 20:45:00  0.446915       NaN  0.831505       NaN\n",
       "2018-11-19 21:45:00       NaN  0.263457       NaN       NaN\n",
       "2018-11-19 22:45:00       NaN       NaN       NaN  0.126522\n",
       "2018-11-19 23:45:00  0.954173       NaN       NaN       NaN"
      ]
     },
     "execution_count": 33,
     "metadata": {},
     "output_type": "execute_result"
    }
   ],
   "source": [
    "# Selecting on the basis of boolean conditions applied to the whole DataFrame\n",
    "df[df>0]\n",
    "\n",
    "# a DataFrame with the same shape is returned, with NaN's where condition is not met"
   ]
  },
  {
   "cell_type": "markdown",
   "metadata": {},
   "source": [
    "### Setting\n",
    "\n",
    "Combination of selection and setting of values"
   ]
  },
  {
   "cell_type": "code",
   "execution_count": 34,
   "metadata": {},
   "outputs": [],
   "source": [
    "# setting values by label (same as by position)\n",
    "df.at[dates[0],'A'] = 0\n",
    "\n",
    "# setting and assigning a numpy array\n",
    "df.loc[:,'D'] = np.array([5] * len(df))\n",
    "\n",
    "# defining a brend new column\n",
    "df['E'] = np.arange(len(df))*0.5\n",
    "\n",
    "# defining a brend new column by means of a pd.Series: indexes must be the same!\n",
    "df['E prime'] = pd.Series(np.arange(len(df))*2, index=df.index)\n"
   ]
  },
  {
   "cell_type": "code",
   "execution_count": 35,
   "metadata": {},
   "outputs": [
    {
     "data": {
      "text/html": [
       "<div>\n",
       "<style scoped>\n",
       "    .dataframe tbody tr th:only-of-type {\n",
       "        vertical-align: middle;\n",
       "    }\n",
       "\n",
       "    .dataframe tbody tr th {\n",
       "        vertical-align: top;\n",
       "    }\n",
       "\n",
       "    .dataframe thead th {\n",
       "        text-align: right;\n",
       "    }\n",
       "</style>\n",
       "<table border=\"1\" class=\"dataframe\">\n",
       "  <thead>\n",
       "    <tr style=\"text-align: right;\">\n",
       "      <th></th>\n",
       "      <th>A</th>\n",
       "      <th>B</th>\n",
       "      <th>C</th>\n",
       "      <th>D</th>\n",
       "      <th>E</th>\n",
       "      <th>E prime</th>\n",
       "      <th>cosine</th>\n",
       "    </tr>\n",
       "  </thead>\n",
       "  <tbody>\n",
       "    <tr>\n",
       "      <th>2018-11-19 14:45:00</th>\n",
       "      <td>0.000000</td>\n",
       "      <td>-0.545761</td>\n",
       "      <td>-0.150988</td>\n",
       "      <td>5</td>\n",
       "      <td>0.0</td>\n",
       "      <td>0</td>\n",
       "      <td>1.000000</td>\n",
       "    </tr>\n",
       "    <tr>\n",
       "      <th>2018-11-19 15:45:00</th>\n",
       "      <td>-0.157271</td>\n",
       "      <td>0.869741</td>\n",
       "      <td>-1.138529</td>\n",
       "      <td>5</td>\n",
       "      <td>0.5</td>\n",
       "      <td>2</td>\n",
       "      <td>0.999962</td>\n",
       "    </tr>\n",
       "    <tr>\n",
       "      <th>2018-11-19 16:45:00</th>\n",
       "      <td>2.607444</td>\n",
       "      <td>0.455125</td>\n",
       "      <td>-0.313257</td>\n",
       "      <td>5</td>\n",
       "      <td>1.0</td>\n",
       "      <td>4</td>\n",
       "      <td>0.999848</td>\n",
       "    </tr>\n",
       "    <tr>\n",
       "      <th>2018-11-19 17:45:00</th>\n",
       "      <td>1.475013</td>\n",
       "      <td>0.117223</td>\n",
       "      <td>0.447630</td>\n",
       "      <td>5</td>\n",
       "      <td>1.5</td>\n",
       "      <td>6</td>\n",
       "      <td>0.999657</td>\n",
       "    </tr>\n",
       "    <tr>\n",
       "      <th>2018-11-19 18:45:00</th>\n",
       "      <td>-0.566478</td>\n",
       "      <td>-1.423130</td>\n",
       "      <td>-1.526628</td>\n",
       "      <td>5</td>\n",
       "      <td>2.0</td>\n",
       "      <td>8</td>\n",
       "      <td>0.999391</td>\n",
       "    </tr>\n",
       "    <tr>\n",
       "      <th>2018-11-19 19:45:00</th>\n",
       "      <td>-0.381283</td>\n",
       "      <td>0.498645</td>\n",
       "      <td>0.496891</td>\n",
       "      <td>5</td>\n",
       "      <td>2.5</td>\n",
       "      <td>10</td>\n",
       "      <td>0.999048</td>\n",
       "    </tr>\n",
       "    <tr>\n",
       "      <th>2018-11-19 20:45:00</th>\n",
       "      <td>0.446915</td>\n",
       "      <td>-0.003119</td>\n",
       "      <td>0.831505</td>\n",
       "      <td>5</td>\n",
       "      <td>3.0</td>\n",
       "      <td>12</td>\n",
       "      <td>0.998630</td>\n",
       "    </tr>\n",
       "    <tr>\n",
       "      <th>2018-11-19 21:45:00</th>\n",
       "      <td>-1.900341</td>\n",
       "      <td>0.263457</td>\n",
       "      <td>-0.761536</td>\n",
       "      <td>5</td>\n",
       "      <td>3.5</td>\n",
       "      <td>14</td>\n",
       "      <td>0.998135</td>\n",
       "    </tr>\n",
       "    <tr>\n",
       "      <th>2018-11-19 22:45:00</th>\n",
       "      <td>-0.922073</td>\n",
       "      <td>-0.637120</td>\n",
       "      <td>-0.177137</td>\n",
       "      <td>5</td>\n",
       "      <td>4.0</td>\n",
       "      <td>16</td>\n",
       "      <td>0.997564</td>\n",
       "    </tr>\n",
       "    <tr>\n",
       "      <th>2018-11-19 23:45:00</th>\n",
       "      <td>0.954173</td>\n",
       "      <td>-0.562154</td>\n",
       "      <td>-1.065822</td>\n",
       "      <td>5</td>\n",
       "      <td>4.5</td>\n",
       "      <td>18</td>\n",
       "      <td>0.996917</td>\n",
       "    </tr>\n",
       "  </tbody>\n",
       "</table>\n",
       "</div>"
      ],
      "text/plain": [
       "                            A         B         C  D    E  E prime    cosine\n",
       "2018-11-19 14:45:00  0.000000 -0.545761 -0.150988  5  0.0        0  1.000000\n",
       "2018-11-19 15:45:00 -0.157271  0.869741 -1.138529  5  0.5        2  0.999962\n",
       "2018-11-19 16:45:00  2.607444  0.455125 -0.313257  5  1.0        4  0.999848\n",
       "2018-11-19 17:45:00  1.475013  0.117223  0.447630  5  1.5        6  0.999657\n",
       "2018-11-19 18:45:00 -0.566478 -1.423130 -1.526628  5  2.0        8  0.999391\n",
       "2018-11-19 19:45:00 -0.381283  0.498645  0.496891  5  2.5       10  0.999048\n",
       "2018-11-19 20:45:00  0.446915 -0.003119  0.831505  5  3.0       12  0.998630\n",
       "2018-11-19 21:45:00 -1.900341  0.263457 -0.761536  5  3.5       14  0.998135\n",
       "2018-11-19 22:45:00 -0.922073 -0.637120 -0.177137  5  4.0       16  0.997564\n",
       "2018-11-19 23:45:00  0.954173 -0.562154 -1.065822  5  4.5       18  0.996917"
      ]
     },
     "execution_count": 35,
     "metadata": {},
     "output_type": "execute_result"
    }
   ],
   "source": [
    "def dcos(theta):\n",
    "    theta = theta*(np.pi/180)\n",
    "    return np.cos(theta)\n",
    " \n",
    "df['cosine'] = pd.Series(df[\"E\"].apply(dcos), index=df.index)\n",
    "df"
   ]
  },
  {
   "cell_type": "code",
   "execution_count": null,
   "metadata": {},
   "outputs": [],
   "source": [
    "# another example of global setting\n",
    "df2=df.copy()\n",
    "df2[df2>0] = -df2\n",
    "df2"
   ]
  },
  {
   "cell_type": "markdown",
   "metadata": {},
   "source": [
    "### Dropping\n",
    "\n",
    "N.B.: dropping doesn't act permanently on the DataFrame, i.e. to get that do :\n",
    "```python\n",
    "df = df.drop(....)\n",
    "```"
   ]
  },
  {
   "cell_type": "code",
   "execution_count": 36,
   "metadata": {},
   "outputs": [
    {
     "data": {
      "text/html": [
       "<div>\n",
       "<style scoped>\n",
       "    .dataframe tbody tr th:only-of-type {\n",
       "        vertical-align: middle;\n",
       "    }\n",
       "\n",
       "    .dataframe tbody tr th {\n",
       "        vertical-align: top;\n",
       "    }\n",
       "\n",
       "    .dataframe thead th {\n",
       "        text-align: right;\n",
       "    }\n",
       "</style>\n",
       "<table border=\"1\" class=\"dataframe\">\n",
       "  <thead>\n",
       "    <tr style=\"text-align: right;\">\n",
       "      <th></th>\n",
       "      <th>A</th>\n",
       "      <th>B</th>\n",
       "      <th>C</th>\n",
       "      <th>D</th>\n",
       "      <th>E</th>\n",
       "      <th>cosine</th>\n",
       "    </tr>\n",
       "  </thead>\n",
       "  <tbody>\n",
       "    <tr>\n",
       "      <th>2018-11-19 14:45:00</th>\n",
       "      <td>0.000000</td>\n",
       "      <td>-0.545761</td>\n",
       "      <td>-0.150988</td>\n",
       "      <td>5</td>\n",
       "      <td>0.0</td>\n",
       "      <td>1.000000</td>\n",
       "    </tr>\n",
       "    <tr>\n",
       "      <th>2018-11-19 15:45:00</th>\n",
       "      <td>-0.157271</td>\n",
       "      <td>0.869741</td>\n",
       "      <td>-1.138529</td>\n",
       "      <td>5</td>\n",
       "      <td>0.5</td>\n",
       "      <td>0.999962</td>\n",
       "    </tr>\n",
       "    <tr>\n",
       "      <th>2018-11-19 16:45:00</th>\n",
       "      <td>2.607444</td>\n",
       "      <td>0.455125</td>\n",
       "      <td>-0.313257</td>\n",
       "      <td>5</td>\n",
       "      <td>1.0</td>\n",
       "      <td>0.999848</td>\n",
       "    </tr>\n",
       "    <tr>\n",
       "      <th>2018-11-19 17:45:00</th>\n",
       "      <td>1.475013</td>\n",
       "      <td>0.117223</td>\n",
       "      <td>0.447630</td>\n",
       "      <td>5</td>\n",
       "      <td>1.5</td>\n",
       "      <td>0.999657</td>\n",
       "    </tr>\n",
       "    <tr>\n",
       "      <th>2018-11-19 18:45:00</th>\n",
       "      <td>-0.566478</td>\n",
       "      <td>-1.423130</td>\n",
       "      <td>-1.526628</td>\n",
       "      <td>5</td>\n",
       "      <td>2.0</td>\n",
       "      <td>0.999391</td>\n",
       "    </tr>\n",
       "    <tr>\n",
       "      <th>2018-11-19 19:45:00</th>\n",
       "      <td>-0.381283</td>\n",
       "      <td>0.498645</td>\n",
       "      <td>0.496891</td>\n",
       "      <td>5</td>\n",
       "      <td>2.5</td>\n",
       "      <td>0.999048</td>\n",
       "    </tr>\n",
       "    <tr>\n",
       "      <th>2018-11-19 20:45:00</th>\n",
       "      <td>0.446915</td>\n",
       "      <td>-0.003119</td>\n",
       "      <td>0.831505</td>\n",
       "      <td>5</td>\n",
       "      <td>3.0</td>\n",
       "      <td>0.998630</td>\n",
       "    </tr>\n",
       "    <tr>\n",
       "      <th>2018-11-19 21:45:00</th>\n",
       "      <td>-1.900341</td>\n",
       "      <td>0.263457</td>\n",
       "      <td>-0.761536</td>\n",
       "      <td>5</td>\n",
       "      <td>3.5</td>\n",
       "      <td>0.998135</td>\n",
       "    </tr>\n",
       "    <tr>\n",
       "      <th>2018-11-19 22:45:00</th>\n",
       "      <td>-0.922073</td>\n",
       "      <td>-0.637120</td>\n",
       "      <td>-0.177137</td>\n",
       "      <td>5</td>\n",
       "      <td>4.0</td>\n",
       "      <td>0.997564</td>\n",
       "    </tr>\n",
       "    <tr>\n",
       "      <th>2018-11-19 23:45:00</th>\n",
       "      <td>0.954173</td>\n",
       "      <td>-0.562154</td>\n",
       "      <td>-1.065822</td>\n",
       "      <td>5</td>\n",
       "      <td>4.5</td>\n",
       "      <td>0.996917</td>\n",
       "    </tr>\n",
       "  </tbody>\n",
       "</table>\n",
       "</div>"
      ],
      "text/plain": [
       "                            A         B         C  D    E    cosine\n",
       "2018-11-19 14:45:00  0.000000 -0.545761 -0.150988  5  0.0  1.000000\n",
       "2018-11-19 15:45:00 -0.157271  0.869741 -1.138529  5  0.5  0.999962\n",
       "2018-11-19 16:45:00  2.607444  0.455125 -0.313257  5  1.0  0.999848\n",
       "2018-11-19 17:45:00  1.475013  0.117223  0.447630  5  1.5  0.999657\n",
       "2018-11-19 18:45:00 -0.566478 -1.423130 -1.526628  5  2.0  0.999391\n",
       "2018-11-19 19:45:00 -0.381283  0.498645  0.496891  5  2.5  0.999048\n",
       "2018-11-19 20:45:00  0.446915 -0.003119  0.831505  5  3.0  0.998630\n",
       "2018-11-19 21:45:00 -1.900341  0.263457 -0.761536  5  3.5  0.998135\n",
       "2018-11-19 22:45:00 -0.922073 -0.637120 -0.177137  5  4.0  0.997564\n",
       "2018-11-19 23:45:00  0.954173 -0.562154 -1.065822  5  4.5  0.996917"
      ]
     },
     "execution_count": 36,
     "metadata": {},
     "output_type": "execute_result"
    }
   ],
   "source": [
    "# Dropping by column\n",
    "df.drop(['E prime'], axis=1)\n",
    "\n",
    "#which is equivalent to\n",
    "df.drop(columns=['E prime'])"
   ]
  },
  {
   "cell_type": "code",
   "execution_count": 37,
   "metadata": {},
   "outputs": [
    {
     "data": {
      "text/html": [
       "<div>\n",
       "<style scoped>\n",
       "    .dataframe tbody tr th:only-of-type {\n",
       "        vertical-align: middle;\n",
       "    }\n",
       "\n",
       "    .dataframe tbody tr th {\n",
       "        vertical-align: top;\n",
       "    }\n",
       "\n",
       "    .dataframe thead th {\n",
       "        text-align: right;\n",
       "    }\n",
       "</style>\n",
       "<table border=\"1\" class=\"dataframe\">\n",
       "  <thead>\n",
       "    <tr style=\"text-align: right;\">\n",
       "      <th></th>\n",
       "      <th>A</th>\n",
       "      <th>B</th>\n",
       "      <th>C</th>\n",
       "      <th>D</th>\n",
       "      <th>E</th>\n",
       "      <th>E prime</th>\n",
       "      <th>cosine</th>\n",
       "    </tr>\n",
       "  </thead>\n",
       "  <tbody>\n",
       "    <tr>\n",
       "      <th>2018-11-19 14:45:00</th>\n",
       "      <td>0.000000</td>\n",
       "      <td>-0.545761</td>\n",
       "      <td>-0.150988</td>\n",
       "      <td>5</td>\n",
       "      <td>0.0</td>\n",
       "      <td>0</td>\n",
       "      <td>1.000000</td>\n",
       "    </tr>\n",
       "    <tr>\n",
       "      <th>2018-11-19 19:45:00</th>\n",
       "      <td>-0.381283</td>\n",
       "      <td>0.498645</td>\n",
       "      <td>0.496891</td>\n",
       "      <td>5</td>\n",
       "      <td>2.5</td>\n",
       "      <td>10</td>\n",
       "      <td>0.999048</td>\n",
       "    </tr>\n",
       "    <tr>\n",
       "      <th>2018-11-19 20:45:00</th>\n",
       "      <td>0.446915</td>\n",
       "      <td>-0.003119</td>\n",
       "      <td>0.831505</td>\n",
       "      <td>5</td>\n",
       "      <td>3.0</td>\n",
       "      <td>12</td>\n",
       "      <td>0.998630</td>\n",
       "    </tr>\n",
       "    <tr>\n",
       "      <th>2018-11-19 21:45:00</th>\n",
       "      <td>-1.900341</td>\n",
       "      <td>0.263457</td>\n",
       "      <td>-0.761536</td>\n",
       "      <td>5</td>\n",
       "      <td>3.5</td>\n",
       "      <td>14</td>\n",
       "      <td>0.998135</td>\n",
       "    </tr>\n",
       "    <tr>\n",
       "      <th>2018-11-19 22:45:00</th>\n",
       "      <td>-0.922073</td>\n",
       "      <td>-0.637120</td>\n",
       "      <td>-0.177137</td>\n",
       "      <td>5</td>\n",
       "      <td>4.0</td>\n",
       "      <td>16</td>\n",
       "      <td>0.997564</td>\n",
       "    </tr>\n",
       "    <tr>\n",
       "      <th>2018-11-19 23:45:00</th>\n",
       "      <td>0.954173</td>\n",
       "      <td>-0.562154</td>\n",
       "      <td>-1.065822</td>\n",
       "      <td>5</td>\n",
       "      <td>4.5</td>\n",
       "      <td>18</td>\n",
       "      <td>0.996917</td>\n",
       "    </tr>\n",
       "  </tbody>\n",
       "</table>\n",
       "</div>"
      ],
      "text/plain": [
       "                            A         B         C  D    E  E prime    cosine\n",
       "2018-11-19 14:45:00  0.000000 -0.545761 -0.150988  5  0.0        0  1.000000\n",
       "2018-11-19 19:45:00 -0.381283  0.498645  0.496891  5  2.5       10  0.999048\n",
       "2018-11-19 20:45:00  0.446915 -0.003119  0.831505  5  3.0       12  0.998630\n",
       "2018-11-19 21:45:00 -1.900341  0.263457 -0.761536  5  3.5       14  0.998135\n",
       "2018-11-19 22:45:00 -0.922073 -0.637120 -0.177137  5  4.0       16  0.997564\n",
       "2018-11-19 23:45:00  0.954173 -0.562154 -1.065822  5  4.5       18  0.996917"
      ]
     },
     "execution_count": 37,
     "metadata": {},
     "output_type": "execute_result"
    }
   ],
   "source": [
    "# Dropping by raws\n",
    "# safe and always working\n",
    "df.drop(df.index[[1,2,3,4]])"
   ]
  },
  {
   "cell_type": "code",
   "execution_count": 38,
   "metadata": {},
   "outputs": [
    {
     "data": {
      "text/html": [
       "<div>\n",
       "<style scoped>\n",
       "    .dataframe tbody tr th:only-of-type {\n",
       "        vertical-align: middle;\n",
       "    }\n",
       "\n",
       "    .dataframe tbody tr th {\n",
       "        vertical-align: top;\n",
       "    }\n",
       "\n",
       "    .dataframe thead th {\n",
       "        text-align: right;\n",
       "    }\n",
       "</style>\n",
       "<table border=\"1\" class=\"dataframe\">\n",
       "  <thead>\n",
       "    <tr style=\"text-align: right;\">\n",
       "      <th></th>\n",
       "      <th>A</th>\n",
       "      <th>B</th>\n",
       "      <th>C</th>\n",
       "      <th>D</th>\n",
       "      <th>E</th>\n",
       "      <th>E prime</th>\n",
       "      <th>cosine</th>\n",
       "    </tr>\n",
       "  </thead>\n",
       "  <tbody>\n",
       "    <tr>\n",
       "      <th>2018-11-19 14:45:00</th>\n",
       "      <td>0.000000</td>\n",
       "      <td>-0.545761</td>\n",
       "      <td>-0.150988</td>\n",
       "      <td>5</td>\n",
       "      <td>0.0</td>\n",
       "      <td>0</td>\n",
       "      <td>1.000000</td>\n",
       "    </tr>\n",
       "    <tr>\n",
       "      <th>2018-11-19 15:45:00</th>\n",
       "      <td>-0.157271</td>\n",
       "      <td>0.869741</td>\n",
       "      <td>-1.138529</td>\n",
       "      <td>5</td>\n",
       "      <td>0.5</td>\n",
       "      <td>2</td>\n",
       "      <td>0.999962</td>\n",
       "    </tr>\n",
       "    <tr>\n",
       "      <th>2018-11-19 16:45:00</th>\n",
       "      <td>2.607444</td>\n",
       "      <td>0.455125</td>\n",
       "      <td>-0.313257</td>\n",
       "      <td>5</td>\n",
       "      <td>1.0</td>\n",
       "      <td>4</td>\n",
       "      <td>0.999848</td>\n",
       "    </tr>\n",
       "    <tr>\n",
       "      <th>2018-11-19 17:45:00</th>\n",
       "      <td>1.475013</td>\n",
       "      <td>0.117223</td>\n",
       "      <td>0.447630</td>\n",
       "      <td>5</td>\n",
       "      <td>1.5</td>\n",
       "      <td>6</td>\n",
       "      <td>0.999657</td>\n",
       "    </tr>\n",
       "    <tr>\n",
       "      <th>2018-11-19 18:45:00</th>\n",
       "      <td>-0.566478</td>\n",
       "      <td>-1.423130</td>\n",
       "      <td>-1.526628</td>\n",
       "      <td>5</td>\n",
       "      <td>2.0</td>\n",
       "      <td>8</td>\n",
       "      <td>0.999391</td>\n",
       "    </tr>\n",
       "    <tr>\n",
       "      <th>2018-11-19 19:45:00</th>\n",
       "      <td>-0.381283</td>\n",
       "      <td>0.498645</td>\n",
       "      <td>0.496891</td>\n",
       "      <td>5</td>\n",
       "      <td>2.5</td>\n",
       "      <td>10</td>\n",
       "      <td>0.999048</td>\n",
       "    </tr>\n",
       "    <tr>\n",
       "      <th>2018-11-19 20:45:00</th>\n",
       "      <td>0.446915</td>\n",
       "      <td>-0.003119</td>\n",
       "      <td>0.831505</td>\n",
       "      <td>5</td>\n",
       "      <td>3.0</td>\n",
       "      <td>12</td>\n",
       "      <td>0.998630</td>\n",
       "    </tr>\n",
       "    <tr>\n",
       "      <th>2018-11-19 21:45:00</th>\n",
       "      <td>-1.900341</td>\n",
       "      <td>0.263457</td>\n",
       "      <td>-0.761536</td>\n",
       "      <td>5</td>\n",
       "      <td>3.5</td>\n",
       "      <td>14</td>\n",
       "      <td>0.998135</td>\n",
       "    </tr>\n",
       "    <tr>\n",
       "      <th>2018-11-19 23:45:00</th>\n",
       "      <td>0.954173</td>\n",
       "      <td>-0.562154</td>\n",
       "      <td>-1.065822</td>\n",
       "      <td>5</td>\n",
       "      <td>4.5</td>\n",
       "      <td>18</td>\n",
       "      <td>0.996917</td>\n",
       "    </tr>\n",
       "  </tbody>\n",
       "</table>\n",
       "</div>"
      ],
      "text/plain": [
       "                            A         B         C  D    E  E prime    cosine\n",
       "2018-11-19 14:45:00  0.000000 -0.545761 -0.150988  5  0.0        0  1.000000\n",
       "2018-11-19 15:45:00 -0.157271  0.869741 -1.138529  5  0.5        2  0.999962\n",
       "2018-11-19 16:45:00  2.607444  0.455125 -0.313257  5  1.0        4  0.999848\n",
       "2018-11-19 17:45:00  1.475013  0.117223  0.447630  5  1.5        6  0.999657\n",
       "2018-11-19 18:45:00 -0.566478 -1.423130 -1.526628  5  2.0        8  0.999391\n",
       "2018-11-19 19:45:00 -0.381283  0.498645  0.496891  5  2.5       10  0.999048\n",
       "2018-11-19 20:45:00  0.446915 -0.003119  0.831505  5  3.0       12  0.998630\n",
       "2018-11-19 21:45:00 -1.900341  0.263457 -0.761536  5  3.5       14  0.998135\n",
       "2018-11-19 23:45:00  0.954173 -0.562154 -1.065822  5  4.5       18  0.996917"
      ]
     },
     "execution_count": 38,
     "metadata": {},
     "output_type": "execute_result"
    }
   ],
   "source": [
    "# something like df.drop('index_name') \n",
    "# would work but the type of index must be specificed, \n",
    "# in particular with DatetimeIndex\n",
    "df.drop(pd.to_datetime(\"2018-11-19 22:45:00\"))"
   ]
  },
  {
   "cell_type": "markdown",
   "metadata": {},
   "source": [
    "## Missing data\n",
    "\n",
    "pandas primarily uses the value np.nan to represent missing data. It is by default not included in computations."
   ]
  },
  {
   "cell_type": "code",
   "execution_count": 39,
   "metadata": {},
   "outputs": [
    {
     "data": {
      "text/html": [
       "<div>\n",
       "<style scoped>\n",
       "    .dataframe tbody tr th:only-of-type {\n",
       "        vertical-align: middle;\n",
       "    }\n",
       "\n",
       "    .dataframe tbody tr th {\n",
       "        vertical-align: top;\n",
       "    }\n",
       "\n",
       "    .dataframe thead th {\n",
       "        text-align: right;\n",
       "    }\n",
       "</style>\n",
       "<table border=\"1\" class=\"dataframe\">\n",
       "  <thead>\n",
       "    <tr style=\"text-align: right;\">\n",
       "      <th></th>\n",
       "      <th>A</th>\n",
       "      <th>B</th>\n",
       "      <th>C</th>\n",
       "      <th>D</th>\n",
       "      <th>E</th>\n",
       "      <th>E prime</th>\n",
       "      <th>cosine</th>\n",
       "    </tr>\n",
       "  </thead>\n",
       "  <tbody>\n",
       "    <tr>\n",
       "      <th>2018-11-19 14:45:00</th>\n",
       "      <td>NaN</td>\n",
       "      <td>NaN</td>\n",
       "      <td>NaN</td>\n",
       "      <td>5</td>\n",
       "      <td>NaN</td>\n",
       "      <td>NaN</td>\n",
       "      <td>1.000000</td>\n",
       "    </tr>\n",
       "    <tr>\n",
       "      <th>2018-11-19 15:45:00</th>\n",
       "      <td>NaN</td>\n",
       "      <td>0.869741</td>\n",
       "      <td>NaN</td>\n",
       "      <td>5</td>\n",
       "      <td>0.5</td>\n",
       "      <td>2.0</td>\n",
       "      <td>0.999962</td>\n",
       "    </tr>\n",
       "    <tr>\n",
       "      <th>2018-11-19 16:45:00</th>\n",
       "      <td>2.607444</td>\n",
       "      <td>0.455125</td>\n",
       "      <td>NaN</td>\n",
       "      <td>5</td>\n",
       "      <td>1.0</td>\n",
       "      <td>4.0</td>\n",
       "      <td>0.999848</td>\n",
       "    </tr>\n",
       "    <tr>\n",
       "      <th>2018-11-19 17:45:00</th>\n",
       "      <td>1.475013</td>\n",
       "      <td>0.117223</td>\n",
       "      <td>0.447630</td>\n",
       "      <td>5</td>\n",
       "      <td>1.5</td>\n",
       "      <td>6.0</td>\n",
       "      <td>0.999657</td>\n",
       "    </tr>\n",
       "    <tr>\n",
       "      <th>2018-11-19 18:45:00</th>\n",
       "      <td>NaN</td>\n",
       "      <td>NaN</td>\n",
       "      <td>NaN</td>\n",
       "      <td>5</td>\n",
       "      <td>2.0</td>\n",
       "      <td>8.0</td>\n",
       "      <td>0.999391</td>\n",
       "    </tr>\n",
       "    <tr>\n",
       "      <th>2018-11-19 19:45:00</th>\n",
       "      <td>NaN</td>\n",
       "      <td>0.498645</td>\n",
       "      <td>0.496891</td>\n",
       "      <td>5</td>\n",
       "      <td>2.5</td>\n",
       "      <td>10.0</td>\n",
       "      <td>0.999048</td>\n",
       "    </tr>\n",
       "    <tr>\n",
       "      <th>2018-11-19 20:45:00</th>\n",
       "      <td>0.446915</td>\n",
       "      <td>NaN</td>\n",
       "      <td>0.831505</td>\n",
       "      <td>5</td>\n",
       "      <td>3.0</td>\n",
       "      <td>12.0</td>\n",
       "      <td>0.998630</td>\n",
       "    </tr>\n",
       "    <tr>\n",
       "      <th>2018-11-19 21:45:00</th>\n",
       "      <td>NaN</td>\n",
       "      <td>0.263457</td>\n",
       "      <td>NaN</td>\n",
       "      <td>5</td>\n",
       "      <td>3.5</td>\n",
       "      <td>14.0</td>\n",
       "      <td>0.998135</td>\n",
       "    </tr>\n",
       "    <tr>\n",
       "      <th>2018-11-19 22:45:00</th>\n",
       "      <td>NaN</td>\n",
       "      <td>NaN</td>\n",
       "      <td>NaN</td>\n",
       "      <td>5</td>\n",
       "      <td>4.0</td>\n",
       "      <td>16.0</td>\n",
       "      <td>0.997564</td>\n",
       "    </tr>\n",
       "    <tr>\n",
       "      <th>2018-11-19 23:45:00</th>\n",
       "      <td>0.954173</td>\n",
       "      <td>NaN</td>\n",
       "      <td>NaN</td>\n",
       "      <td>5</td>\n",
       "      <td>4.5</td>\n",
       "      <td>18.0</td>\n",
       "      <td>0.996917</td>\n",
       "    </tr>\n",
       "  </tbody>\n",
       "</table>\n",
       "</div>"
      ],
      "text/plain": [
       "                            A         B         C  D    E  E prime    cosine\n",
       "2018-11-19 14:45:00       NaN       NaN       NaN  5  NaN      NaN  1.000000\n",
       "2018-11-19 15:45:00       NaN  0.869741       NaN  5  0.5      2.0  0.999962\n",
       "2018-11-19 16:45:00  2.607444  0.455125       NaN  5  1.0      4.0  0.999848\n",
       "2018-11-19 17:45:00  1.475013  0.117223  0.447630  5  1.5      6.0  0.999657\n",
       "2018-11-19 18:45:00       NaN       NaN       NaN  5  2.0      8.0  0.999391\n",
       "2018-11-19 19:45:00       NaN  0.498645  0.496891  5  2.5     10.0  0.999048\n",
       "2018-11-19 20:45:00  0.446915       NaN  0.831505  5  3.0     12.0  0.998630\n",
       "2018-11-19 21:45:00       NaN  0.263457       NaN  5  3.5     14.0  0.998135\n",
       "2018-11-19 22:45:00       NaN       NaN       NaN  5  4.0     16.0  0.997564\n",
       "2018-11-19 23:45:00  0.954173       NaN       NaN  5  4.5     18.0  0.996917"
      ]
     },
     "execution_count": 39,
     "metadata": {},
     "output_type": "execute_result"
    }
   ],
   "source": [
    "df_wNan = df[df>0]\n",
    "df_wNan"
   ]
  },
  {
   "cell_type": "code",
   "execution_count": 40,
   "metadata": {},
   "outputs": [
    {
     "data": {
      "text/html": [
       "<div>\n",
       "<style scoped>\n",
       "    .dataframe tbody tr th:only-of-type {\n",
       "        vertical-align: middle;\n",
       "    }\n",
       "\n",
       "    .dataframe tbody tr th {\n",
       "        vertical-align: top;\n",
       "    }\n",
       "\n",
       "    .dataframe thead th {\n",
       "        text-align: right;\n",
       "    }\n",
       "</style>\n",
       "<table border=\"1\" class=\"dataframe\">\n",
       "  <thead>\n",
       "    <tr style=\"text-align: right;\">\n",
       "      <th></th>\n",
       "      <th>A</th>\n",
       "      <th>B</th>\n",
       "      <th>C</th>\n",
       "      <th>D</th>\n",
       "      <th>E</th>\n",
       "      <th>E prime</th>\n",
       "      <th>cosine</th>\n",
       "    </tr>\n",
       "  </thead>\n",
       "  <tbody>\n",
       "    <tr>\n",
       "      <th>2018-11-19 17:45:00</th>\n",
       "      <td>1.475013</td>\n",
       "      <td>0.117223</td>\n",
       "      <td>0.44763</td>\n",
       "      <td>5</td>\n",
       "      <td>1.5</td>\n",
       "      <td>6.0</td>\n",
       "      <td>0.999657</td>\n",
       "    </tr>\n",
       "  </tbody>\n",
       "</table>\n",
       "</div>"
      ],
      "text/plain": [
       "                            A         B        C  D    E  E prime    cosine\n",
       "2018-11-19 17:45:00  1.475013  0.117223  0.44763  5  1.5      6.0  0.999657"
      ]
     },
     "execution_count": 40,
     "metadata": {},
     "output_type": "execute_result"
    }
   ],
   "source": [
    "# dropping raws with at least a Nan\n",
    "df_wNan.dropna(how='any')"
   ]
  },
  {
   "cell_type": "code",
   "execution_count": null,
   "metadata": {},
   "outputs": [],
   "source": [
    "# getting a mask\n",
    "df_wNan.isna()\n",
    "#df_wNan.notna()"
   ]
  },
  {
   "cell_type": "code",
   "execution_count": null,
   "metadata": {},
   "outputs": [],
   "source": [
    "# filling missing data\n",
    "df_wNan.fillna(value=0)"
   ]
  },
  {
   "cell_type": "markdown",
   "metadata": {},
   "source": [
    "Fill gaps forward or backward by propagating non-NA values forward or backward:"
   ]
  },
  {
   "cell_type": "code",
   "execution_count": null,
   "metadata": {},
   "outputs": [],
   "source": [
    "df_wNan.fillna(method='pad')"
   ]
  },
  {
   "cell_type": "markdown",
   "metadata": {},
   "source": [
    "## Operations\n",
    "\n",
    "Here comes the most relevant advantage of DataFrame. Operations on columns are extremly fast, almost as fast as the actual operation between elements in a raw"
   ]
  },
  {
   "cell_type": "code",
   "execution_count": null,
   "metadata": {},
   "outputs": [],
   "source": [
    "# Some statistics (mean() just as an example)\n",
    "# raws\n",
    "print (df.mean(axis=0),'\\n')\n",
    "# columns\n",
    "print (df.mean(axis=1),'\\n')"
   ]
  },
  {
   "cell_type": "code",
   "execution_count": null,
   "metadata": {},
   "outputs": [],
   "source": [
    "# global operations on columns\n",
    "df.apply(np.cumsum)"
   ]
  },
  {
   "cell_type": "code",
   "execution_count": null,
   "metadata": {},
   "outputs": [],
   "source": [
    "df.apply(lambda x: x.max() - x.min())"
   ]
  },
  {
   "cell_type": "code",
   "execution_count": null,
   "metadata": {},
   "outputs": [],
   "source": [
    "# syntax is as usual similar to that of numpy arrays\n",
    "df['A']+df['B']"
   ]
  },
  {
   "cell_type": "markdown",
   "metadata": {},
   "source": [
    "Let's play it hard and load (in memory) a (relatively) large dataset"
   ]
  },
  {
   "cell_type": "code",
   "execution_count": 41,
   "metadata": {},
   "outputs": [
    {
     "ename": "FileNotFoundError",
     "evalue": "File b'/Users/mzanetti/data/LEMMA2018/DT/raw/data_000636.txt' does not exist",
     "output_type": "error",
     "traceback": [
      "\u001b[0;31m----------------------------------------------------------------------\u001b[0m",
      "\u001b[0;31mFileNotFoundError\u001b[0m                    Traceback (most recent call last)",
      "\u001b[0;32m<ipython-input-41-182e577f0967>\u001b[0m in \u001b[0;36m<module>\u001b[0;34m()\u001b[0m\n\u001b[1;32m      1\u001b[0m \u001b[0mfile_name\u001b[0m\u001b[0;34m=\u001b[0m\u001b[0;34m\"/Users/mzanetti/data/LEMMA2018/DT/raw/data_000636.txt\"\u001b[0m\u001b[0;34m\u001b[0m\u001b[0m\n\u001b[0;32m----> 2\u001b[0;31m \u001b[0mdata\u001b[0m\u001b[0;34m=\u001b[0m\u001b[0mpd\u001b[0m\u001b[0;34m.\u001b[0m\u001b[0mread_csv\u001b[0m\u001b[0;34m(\u001b[0m\u001b[0mfile_name\u001b[0m\u001b[0;34m)\u001b[0m\u001b[0;34m\u001b[0m\u001b[0m\n\u001b[0m\u001b[1;32m      3\u001b[0m \u001b[0mdata\u001b[0m\u001b[0;34m\u001b[0m\u001b[0m\n",
      "\u001b[0;32m~/anaconda3/lib/python3.6/site-packages/pandas/io/parsers.py\u001b[0m in \u001b[0;36mparser_f\u001b[0;34m(filepath_or_buffer, sep, delimiter, header, names, index_col, usecols, squeeze, prefix, mangle_dupe_cols, dtype, engine, converters, true_values, false_values, skipinitialspace, skiprows, nrows, na_values, keep_default_na, na_filter, verbose, skip_blank_lines, parse_dates, infer_datetime_format, keep_date_col, date_parser, dayfirst, iterator, chunksize, compression, thousands, decimal, lineterminator, quotechar, quoting, escapechar, comment, encoding, dialect, tupleize_cols, error_bad_lines, warn_bad_lines, skipfooter, doublequote, delim_whitespace, low_memory, memory_map, float_precision)\u001b[0m\n\u001b[1;32m    676\u001b[0m                     skip_blank_lines=skip_blank_lines)\n\u001b[1;32m    677\u001b[0m \u001b[0;34m\u001b[0m\u001b[0m\n\u001b[0;32m--> 678\u001b[0;31m         \u001b[0;32mreturn\u001b[0m \u001b[0m_read\u001b[0m\u001b[0;34m(\u001b[0m\u001b[0mfilepath_or_buffer\u001b[0m\u001b[0;34m,\u001b[0m \u001b[0mkwds\u001b[0m\u001b[0;34m)\u001b[0m\u001b[0;34m\u001b[0m\u001b[0m\n\u001b[0m\u001b[1;32m    679\u001b[0m \u001b[0;34m\u001b[0m\u001b[0m\n\u001b[1;32m    680\u001b[0m     \u001b[0mparser_f\u001b[0m\u001b[0;34m.\u001b[0m\u001b[0m__name__\u001b[0m \u001b[0;34m=\u001b[0m \u001b[0mname\u001b[0m\u001b[0;34m\u001b[0m\u001b[0m\n",
      "\u001b[0;32m~/anaconda3/lib/python3.6/site-packages/pandas/io/parsers.py\u001b[0m in \u001b[0;36m_read\u001b[0;34m(filepath_or_buffer, kwds)\u001b[0m\n\u001b[1;32m    438\u001b[0m \u001b[0;34m\u001b[0m\u001b[0m\n\u001b[1;32m    439\u001b[0m     \u001b[0;31m# Create the parser.\u001b[0m\u001b[0;34m\u001b[0m\u001b[0;34m\u001b[0m\u001b[0m\n\u001b[0;32m--> 440\u001b[0;31m     \u001b[0mparser\u001b[0m \u001b[0;34m=\u001b[0m \u001b[0mTextFileReader\u001b[0m\u001b[0;34m(\u001b[0m\u001b[0mfilepath_or_buffer\u001b[0m\u001b[0;34m,\u001b[0m \u001b[0;34m**\u001b[0m\u001b[0mkwds\u001b[0m\u001b[0;34m)\u001b[0m\u001b[0;34m\u001b[0m\u001b[0m\n\u001b[0m\u001b[1;32m    441\u001b[0m \u001b[0;34m\u001b[0m\u001b[0m\n\u001b[1;32m    442\u001b[0m     \u001b[0;32mif\u001b[0m \u001b[0mchunksize\u001b[0m \u001b[0;32mor\u001b[0m \u001b[0miterator\u001b[0m\u001b[0;34m:\u001b[0m\u001b[0;34m\u001b[0m\u001b[0m\n",
      "\u001b[0;32m~/anaconda3/lib/python3.6/site-packages/pandas/io/parsers.py\u001b[0m in \u001b[0;36m__init__\u001b[0;34m(self, f, engine, **kwds)\u001b[0m\n\u001b[1;32m    785\u001b[0m             \u001b[0mself\u001b[0m\u001b[0;34m.\u001b[0m\u001b[0moptions\u001b[0m\u001b[0;34m[\u001b[0m\u001b[0;34m'has_index_names'\u001b[0m\u001b[0;34m]\u001b[0m \u001b[0;34m=\u001b[0m \u001b[0mkwds\u001b[0m\u001b[0;34m[\u001b[0m\u001b[0;34m'has_index_names'\u001b[0m\u001b[0;34m]\u001b[0m\u001b[0;34m\u001b[0m\u001b[0m\n\u001b[1;32m    786\u001b[0m \u001b[0;34m\u001b[0m\u001b[0m\n\u001b[0;32m--> 787\u001b[0;31m         \u001b[0mself\u001b[0m\u001b[0;34m.\u001b[0m\u001b[0m_make_engine\u001b[0m\u001b[0;34m(\u001b[0m\u001b[0mself\u001b[0m\u001b[0;34m.\u001b[0m\u001b[0mengine\u001b[0m\u001b[0;34m)\u001b[0m\u001b[0;34m\u001b[0m\u001b[0m\n\u001b[0m\u001b[1;32m    788\u001b[0m \u001b[0;34m\u001b[0m\u001b[0m\n\u001b[1;32m    789\u001b[0m     \u001b[0;32mdef\u001b[0m \u001b[0mclose\u001b[0m\u001b[0;34m(\u001b[0m\u001b[0mself\u001b[0m\u001b[0;34m)\u001b[0m\u001b[0;34m:\u001b[0m\u001b[0;34m\u001b[0m\u001b[0m\n",
      "\u001b[0;32m~/anaconda3/lib/python3.6/site-packages/pandas/io/parsers.py\u001b[0m in \u001b[0;36m_make_engine\u001b[0;34m(self, engine)\u001b[0m\n\u001b[1;32m   1012\u001b[0m     \u001b[0;32mdef\u001b[0m \u001b[0m_make_engine\u001b[0m\u001b[0;34m(\u001b[0m\u001b[0mself\u001b[0m\u001b[0;34m,\u001b[0m \u001b[0mengine\u001b[0m\u001b[0;34m=\u001b[0m\u001b[0;34m'c'\u001b[0m\u001b[0;34m)\u001b[0m\u001b[0;34m:\u001b[0m\u001b[0;34m\u001b[0m\u001b[0m\n\u001b[1;32m   1013\u001b[0m         \u001b[0;32mif\u001b[0m \u001b[0mengine\u001b[0m \u001b[0;34m==\u001b[0m \u001b[0;34m'c'\u001b[0m\u001b[0;34m:\u001b[0m\u001b[0;34m\u001b[0m\u001b[0m\n\u001b[0;32m-> 1014\u001b[0;31m             \u001b[0mself\u001b[0m\u001b[0;34m.\u001b[0m\u001b[0m_engine\u001b[0m \u001b[0;34m=\u001b[0m \u001b[0mCParserWrapper\u001b[0m\u001b[0;34m(\u001b[0m\u001b[0mself\u001b[0m\u001b[0;34m.\u001b[0m\u001b[0mf\u001b[0m\u001b[0;34m,\u001b[0m \u001b[0;34m**\u001b[0m\u001b[0mself\u001b[0m\u001b[0;34m.\u001b[0m\u001b[0moptions\u001b[0m\u001b[0;34m)\u001b[0m\u001b[0;34m\u001b[0m\u001b[0m\n\u001b[0m\u001b[1;32m   1015\u001b[0m         \u001b[0;32melse\u001b[0m\u001b[0;34m:\u001b[0m\u001b[0;34m\u001b[0m\u001b[0m\n\u001b[1;32m   1016\u001b[0m             \u001b[0;32mif\u001b[0m \u001b[0mengine\u001b[0m \u001b[0;34m==\u001b[0m \u001b[0;34m'python'\u001b[0m\u001b[0;34m:\u001b[0m\u001b[0;34m\u001b[0m\u001b[0m\n",
      "\u001b[0;32m~/anaconda3/lib/python3.6/site-packages/pandas/io/parsers.py\u001b[0m in \u001b[0;36m__init__\u001b[0;34m(self, src, **kwds)\u001b[0m\n\u001b[1;32m   1706\u001b[0m         \u001b[0mkwds\u001b[0m\u001b[0;34m[\u001b[0m\u001b[0;34m'usecols'\u001b[0m\u001b[0;34m]\u001b[0m \u001b[0;34m=\u001b[0m \u001b[0mself\u001b[0m\u001b[0;34m.\u001b[0m\u001b[0musecols\u001b[0m\u001b[0;34m\u001b[0m\u001b[0m\n\u001b[1;32m   1707\u001b[0m \u001b[0;34m\u001b[0m\u001b[0m\n\u001b[0;32m-> 1708\u001b[0;31m         \u001b[0mself\u001b[0m\u001b[0;34m.\u001b[0m\u001b[0m_reader\u001b[0m \u001b[0;34m=\u001b[0m \u001b[0mparsers\u001b[0m\u001b[0;34m.\u001b[0m\u001b[0mTextReader\u001b[0m\u001b[0;34m(\u001b[0m\u001b[0msrc\u001b[0m\u001b[0;34m,\u001b[0m \u001b[0;34m**\u001b[0m\u001b[0mkwds\u001b[0m\u001b[0;34m)\u001b[0m\u001b[0;34m\u001b[0m\u001b[0m\n\u001b[0m\u001b[1;32m   1709\u001b[0m \u001b[0;34m\u001b[0m\u001b[0m\n\u001b[1;32m   1710\u001b[0m         \u001b[0mpassed_names\u001b[0m \u001b[0;34m=\u001b[0m \u001b[0mself\u001b[0m\u001b[0;34m.\u001b[0m\u001b[0mnames\u001b[0m \u001b[0;32mis\u001b[0m \u001b[0;32mNone\u001b[0m\u001b[0;34m\u001b[0m\u001b[0m\n",
      "\u001b[0;32mpandas/_libs/parsers.pyx\u001b[0m in \u001b[0;36mpandas._libs.parsers.TextReader.__cinit__\u001b[0;34m()\u001b[0m\n",
      "\u001b[0;32mpandas/_libs/parsers.pyx\u001b[0m in \u001b[0;36mpandas._libs.parsers.TextReader._setup_parser_source\u001b[0;34m()\u001b[0m\n",
      "\u001b[0;31mFileNotFoundError\u001b[0m: File b'/Users/mzanetti/data/LEMMA2018/DT/raw/data_000636.txt' does not exist"
     ]
    }
   ],
   "source": [
    "file_name=\"/Users/mzanetti/data/LEMMA2018/DT/raw/data_000636.txt\"\n",
    "data=pd.read_csv(file_name)\n",
    "data"
   ]
  },
  {
   "cell_type": "markdown",
   "metadata": {},
   "source": [
    "Let's now do some operations among (elements of) columns"
   ]
  },
  {
   "cell_type": "code",
   "execution_count": null,
   "metadata": {},
   "outputs": [],
   "source": [
    "# the one-liner killing it all\n",
    "data['timens']=data['TDC_MEAS']*25/30+data['BX_COUNTER']*25"
   ]
  },
  {
   "cell_type": "code",
   "execution_count": null,
   "metadata": {},
   "outputs": [],
   "source": [
    "# the old slooow way\n",
    "def conversion(data):\n",
    "    result=[]\n",
    "    for i in range(len(data)): \n",
    "        result.append(data.loc[data.index[i],'TDC_MEAS']*25/30.+data.loc[data.index[i],'BX_COUNTER']*25)\n",
    "    return result\n",
    "\n",
    "data['timens']=conversion(data)"
   ]
  },
  {
   "cell_type": "markdown",
   "metadata": {},
   "source": [
    "## Merge\n",
    "\n",
    "pandas provides various facilities for easily combining together Series, DataFrame, and Panel objects with various kinds of set logic for the indexes and relational algebra functionality in the case of join / merge-type operations.\n",
    "\n",
    "### Concat\n",
    "\n",
    "concatenation (adding raws) is straightforward\n"
   ]
  },
  {
   "cell_type": "code",
   "execution_count": null,
   "metadata": {},
   "outputs": [],
   "source": [
    "rdf = pd.DataFrame(np.random.randn(10, 4))\n",
    "rdf"
   ]
  },
  {
   "cell_type": "code",
   "execution_count": null,
   "metadata": {},
   "outputs": [],
   "source": [
    "# divide it into pieaces raw-wise\n",
    "pieces = [rdf[:3], rdf[3:7], rdf[7:]]\n",
    "pieces"
   ]
  },
  {
   "cell_type": "code",
   "execution_count": null,
   "metadata": {},
   "outputs": [],
   "source": [
    "# put it back together\n",
    "pd.concat(pieces)\n",
    "\n",
    "# indexes can be ignored\n",
    "#pd.concat(pieces, ignore_index=True)\n",
    "\n",
    "# in case of dimension mismatch, Nan are added where needed"
   ]
  },
  {
   "cell_type": "code",
   "execution_count": null,
   "metadata": {},
   "outputs": [],
   "source": [
    "# appending a single raw (as a Series)\n",
    "s = rdf.iloc[3]\n",
    "rdf.append(s, ignore_index=True)\n"
   ]
  },
  {
   "cell_type": "markdown",
   "metadata": {},
   "source": [
    "### Merge/Join\n",
    "\n",
    "SQL like operations on table can be performed on DataFrames. This is all rather sophisticated, refer to the [doc](https://pandas.pydata.org/pandas-docs/stable/merging.html#merging) for more info/examples"
   ]
  },
  {
   "cell_type": "code",
   "execution_count": null,
   "metadata": {},
   "outputs": [],
   "source": [
    "left = pd.DataFrame({'key': ['foo', 'bar'], 'lval': [1, 2]})\n",
    "right = pd.DataFrame({'key': ['foo', 'bar'], 'rval': [4, 5]})\n",
    "\n",
    "pd.merge(left,right,on=\"key\")"
   ]
  },
  {
   "cell_type": "markdown",
   "metadata": {},
   "source": [
    "## Grouping\n",
    "\n",
    "By “group by” we are referring to a process involving one or more of the following steps:\n",
    "\n",
    "* Splitting the data into groups based on some criteria\n",
    "* Applying a function to each group independently\n",
    "* Combining the results into a data structure\n"
   ]
  },
  {
   "cell_type": "code",
   "execution_count": null,
   "metadata": {},
   "outputs": [],
   "source": [
    "gdf = pd.DataFrame({'A' : ['foo', 'bar', 'foo', 'bar',\n",
    "                          'foo', 'bar', 'foo', 'foo'],\n",
    "                    'B' : ['one', 'one', 'two', 'three',\n",
    "                           'two', 'two', 'one', 'three'],\n",
    "                    'C' : np.random.randn(8),\n",
    "                    'D' : np.random.randn(8)})\n",
    "gdf"
   ]
  },
  {
   "cell_type": "code",
   "execution_count": null,
   "metadata": {},
   "outputs": [],
   "source": [
    "# Grouping and then applying the sum() \n",
    "# function to the resulting groups (effective only where number are there).\n",
    "gdf.groupby('A').sum()"
   ]
  },
  {
   "cell_type": "markdown",
   "metadata": {},
   "source": [
    "## Multi-indexing\n",
    "\n",
    "\n",
    "Hierarchical / Multi-level indexing allows sophisticated data analysis on higher dimensional data. In essence, it enables you to store and manipulate data with an arbitrary number of dimensions in lower dimensional data structures like Series (1d) and DataFrame (2d)."
   ]
  },
  {
   "cell_type": "code",
   "execution_count": 44,
   "metadata": {},
   "outputs": [
    {
     "name": "stdout",
     "output_type": "stream",
     "text": [
      "MultiIndex(levels=[['bar', 'baz', 'foo', 'qux'], ['one', 'two']],\n",
      "           labels=[[0, 0, 1, 1, 2, 2, 3, 3], [0, 1, 0, 1, 0, 1, 0, 1]],\n",
      "           names=['first', 'second']) \n",
      "\n",
      "first  second\n",
      "bar    one      -0.859593\n",
      "       two       0.630153\n",
      "baz    one       0.208446\n",
      "       two       0.892581\n",
      "foo    one       0.609589\n",
      "       two       0.901266\n",
      "qux    one      -1.174542\n",
      "       two      -2.579952\n",
      "dtype: float64\n"
     ]
    }
   ],
   "source": [
    "tuples = list(zip(['bar', 'bar', 'baz', 'baz', 'foo', 'foo', 'qux', 'qux'],\n",
    "          ['one', 'two', 'one', 'two', 'one', 'two', 'one', 'two']))\n",
    "multi_index = pd.MultiIndex.from_tuples(tuples, names=['first', 'second'])\n",
    "print (multi_index,'\\n')\n",
    "\n",
    "s = pd.Series(np.random.randn(8), index=multi_index)\n",
    "print (s)\n"
   ]
  },
  {
   "cell_type": "code",
   "execution_count": null,
   "metadata": {},
   "outputs": [],
   "source": [
    "# it enables further features of the groupby method,\n",
    "# e.g. when group-by by multiple columns\n",
    "gdf.groupby(['A','B']).sum()"
   ]
  },
  {
   "cell_type": "code",
   "execution_count": null,
   "metadata": {},
   "outputs": [],
   "source": [
    "# stack() method “compresses” a level in the DataFrame’s columns\n",
    "gdf.groupby(['A','B']).sum().stack()"
   ]
  },
  {
   "cell_type": "markdown",
   "metadata": {},
   "source": [
    "## Plotting\n",
    "\n",
    "Just a preview, more on the next lab class!"
   ]
  },
  {
   "cell_type": "code",
   "execution_count": 42,
   "metadata": {},
   "outputs": [
    {
     "data": {
      "text/plain": [
       "<matplotlib.axes._subplots.AxesSubplot at 0x7f3e019c6f60>"
      ]
     },
     "execution_count": 42,
     "metadata": {},
     "output_type": "execute_result"
    }
   ],
   "source": [
    "ts = pd.Series(np.random.randn(1000), index=pd.date_range('1/1/2000', periods=1000))\n",
    "ts.cumsum().plot()"
   ]
  },
  {
   "cell_type": "code",
   "execution_count": 43,
   "metadata": {},
   "outputs": [
    {
     "data": {
      "text/plain": [
       "<matplotlib.legend.Legend at 0x7f3dfdac9ba8>"
      ]
     },
     "execution_count": 43,
     "metadata": {},
     "output_type": "execute_result"
    },
    {
     "data": {
      "text/plain": [
       "<Figure size 432x288 with 0 Axes>"
      ]
     },
     "metadata": {},
     "output_type": "display_data"
    },
    {
     "data": {
      "image/png": "[encoded data removed]",
      "text/plain": [
       "<Figure size 432x288 with 1 Axes>"
      ]
     },
     "metadata": {},
     "output_type": "display_data"
    }
   ],
   "source": [
    "import matplotlib.pyplot as plt\n",
    "\n",
    "pdf=pd.DataFrame(np.random.randn(1000, 4), index=ts.index,columns=['A', 'B', 'C', 'D'])\n",
    "df = df.cumsum()\n",
    "plt.figure(); df.plot(); plt.legend(loc='best')"
   ]
  },
  {
   "cell_type": "code",
   "execution_count": null,
   "metadata": {},
   "outputs": [],
   "source": []
  }
 ],
 "metadata": {
  "kernelspec": {
   "display_name": "Python 3",
   "language": "python",
   "name": "python3"
  },
  "language_info": {
   "codemirror_mode": {
    "name": "ipython",
    "version": 3
   },
   "file_extension": ".py",
   "mimetype": "text/x-python",
   "name": "python",
   "nbconvert_exporter": "python",
   "pygments_lexer": "ipython3",
   "version": "3.6.5"
  }
 },
 "nbformat": 4,
 "nbformat_minor": 2
}
