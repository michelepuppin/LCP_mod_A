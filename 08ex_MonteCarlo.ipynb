{
 "cells": [
  {
   "cell_type": "markdown",
   "metadata": {},
   "source": [
    "1\\. **Radioactive decay chain**\n",
    "\n",
    "${\\rm Tl}^{208}$ decays to ${\\rm Pb}^{208}$ with a half-lieve of 3.052 minutes. Suppose to start with a sample of 1000 Thallium atoms and 0 of Lead atoms.\n",
    "\n",
    "* Take steps in time of 1 second and at each time-step decide whether each Tl atom has decayed or not, accordingly to the probability $p(t)=1-2^{-t/\\tau}$. Subtract the total number of Tl atoms that decayed at each step from the Tl sample and add them to the Lead one. Plot the evolution of the two sets as a function of time  \n",
    "* Repeat the exercise by means of the inverse transform method: draw 1000 random numbers from the non-uniform probability distribution $p(t)=2^{-t/\\tau}\\frac{\\ln 2}{\\tau}$ to represent the times of decay of the 1000 Tl atoms. Make a plot showing the number of atoms that have not decayed as a function of time"
   ]
  },
  {
   "cell_type": "code",
   "execution_count": 1,
   "metadata": {},
   "outputs": [
    {
     "data": {
      "text/plain": [
       "<Figure size 640x480 with 1 Axes>"
      ]
     },
     "metadata": {},
     "output_type": "display_data"
    }
   ],
   "source": [
    "# Ex. 1.\n",
    "\n",
    "import numpy as np\n",
    "import math\n",
    "from scipy import stats\n",
    "import matplotlib.pyplot as plt\n",
    "\n",
    "tau = 3.052*60\n",
    "\n",
    "def decay_prob(t):\n",
    "    return 1-2**(-(t)/(tau))\n",
    "\n",
    "time = [i for i in range(1,1000+1)]\n",
    "t = []\n",
    "p = []\n",
    "t_number = 1000\n",
    "p_number = 0\n",
    "\n",
    "for i in time:\n",
    "    if (np.random.uniform(0,1) < decay_prob(i) and t_number > 0):\n",
    "        t_number -= 1\n",
    "        p_number += 1\n",
    "    t.append(t_number)\n",
    "    p.append(p_number)\n",
    "    \n",
    "plt.plot(time,t,c=\"r\",label=r\"${\\rm Tl}^{208}$\")\n",
    "plt.plot(time,p,c=\"b\",label=r\"${\\rm Pb}^{208}$\")\n",
    "plt.title(r\"${\\rm Tl}^{208}$ decays into ${\\rm Pb}^{208}$\")\n",
    "plt.xlabel(\"Time [s]\")\n",
    "plt.ylabel(\"Number of atoms\")\n",
    "plt.legend()\n",
    "plt.show()"
   ]
  },
  {
   "cell_type": "code",
   "execution_count": 2,
   "metadata": {},
   "outputs": [
    {
     "data": {
      "text/plain": [
       "Text(0.5, 0, 'Times [s]')"
      ]
     },
     "execution_count": 2,
     "metadata": {},
     "output_type": "execute_result"
    },
    {
     "data": {
      "image/png": "[encoded data removed]",
      "text/plain": [
       "<Figure size 432x288 with 1 Axes>"
      ]
     },
     "metadata": {
      "needs_background": "light"
     },
     "output_type": "display_data"
    }
   ],
   "source": [
    "def exp_decay(p):\n",
    "    return -np.log(1-p)/(np.log(2)/(3.052*60))\n",
    "\n",
    "t_number = exp_decay(np.random.uniform(0,1,1000))\n",
    "\n",
    "\n",
    "\n",
    "fig, ax = plt.subplots(1,1)\n",
    "ax.hist(t_number,bins=50,cumulative=-1)\n",
    "plt.title(r\"${\\rm Tl}^{208}$ decay\")\n",
    "ax.set_ylabel(\"Number of atoms\")\n",
    "ax.set_xlabel(\"Times [s]\")"
   ]
  },
  {
   "cell_type": "markdown",
   "metadata": {},
   "source": [
    "2\\. **Rutherford Scattering**\n",
    "\n",
    "The scattering angle $\\theta$ of $\\alpha$ particles hitting a positively charged nucleus of a Gold atom ($Z=79$) follows the rule:\n",
    "\n",
    "$$\n",
    "\\tan{\\frac{1}{2} \\theta} = \\frac{Z e^2} {2\\pi \\epsilon_0 E b}\n",
    "$$\n",
    "\n",
    "where $E=7.7$ MeV and $b$ beam is the impact parameter. The beam is represented by a 2D gaussian distribution with $\\sigma=a_0/100$ for both coordinates ($a_0$ being the Bohr radius). Assume 1 million $\\alpha$ particles are shot on the gold atom.\n",
    "\n",
    "Computing the fraction of particles that \"bounce back\",i.e. those particle whose scattering angle is greater than $\\pi/2$ (which set a condition on the impact parameter $b$)"
   ]
  },
  {
   "cell_type": "code",
   "execution_count": 3,
   "metadata": {},
   "outputs": [
    {
     "name": "stdout",
     "output_type": "stream",
     "text": [
      "Percentage of bounced back particle:  0.1608 %\n"
     ]
    }
   ],
   "source": [
    "# Ex. 2.\n",
    "\n",
    "part_numb = 10**(6)\n",
    "\n",
    "Z = 79\n",
    "e = 1.602176565 * 10**(-19)\n",
    "E = 7.7 * 10**(6) * e\n",
    "a = 5.2917721067 * 10**(-11)\n",
    "eps = 8.8541878176 * 10**(-12)\n",
    "\n",
    "x = np.random.normal(0, a/100, part_numb)\n",
    "y = np.random.normal(0, a/100, part_numb)\n",
    "\n",
    "theta = 2 * np.arctan(((Z*e**2)/(2*np.pi*eps*E))/(np.sqrt(np.power(x,2)+np.power(y,2))))\n",
    "\n",
    "print(\"Percentage of bounced back particle: \",(float(len(theta[theta>np.pi/2]))/part_numb)*100,\"%\")"
   ]
  },
  {
   "cell_type": "markdown",
   "metadata": {},
   "source": [
    "3\\. **Monte Carlo integration: hit/miss vs mean value method**\n",
    "\n",
    "Consider the function \n",
    "\n",
    "$$f(x) =\\sin^2{\\frac{1}{x(2-x)}}$$\n",
    "\n",
    "* Compute the integral of $f(x)$ between 0 and 2 with the hit/miss method. Evaluate the error of your estimate\n",
    "* Repeat the integral with the mean value method. Evaluate the error and compare it with the previous one"
   ]
  },
  {
   "cell_type": "code",
   "execution_count": 4,
   "metadata": {},
   "outputs": [
    {
     "name": "stdout",
     "output_type": "stream",
     "text": [
      "The value of the integral is:  1.449\n",
      "The error of the computatio is:  0.005986662769022487\n"
     ]
    }
   ],
   "source": [
    "# Ex. 3.\n",
    "\n",
    "def f(x):\n",
    "    return (np.sin(1/(x*(2-x))))**2\n",
    "\n",
    "def hm(f,numb_iter,h,a,b):\n",
    "    hit = 0\n",
    "    for i in range(numb_iter):\n",
    "        x = np.random.uniform(a, b)\n",
    "        y = np.random.uniform(0, h)\n",
    "        if y < f(x):\n",
    "            hit += 1\n",
    "        val = (b-a)*h*hit/numb_iter\n",
    "    return val , 0.67*math.sqrt(val*((b-a)*h-val)/numb_iter)\n",
    "\n",
    "I, error = hm(f,10000,1,0,2)\n",
    "print(\"The value of the integral is: \", I)\n",
    "print(\"The error of the computatio is: \", error)"
   ]
  },
  {
   "cell_type": "code",
   "execution_count": 5,
   "metadata": {},
   "outputs": [
    {
     "name": "stdout",
     "output_type": "stream",
     "text": [
      "The value of the integral is:  1.4420808826326612\n",
      "The error of the computatio is:  0.005393405154439441\n"
     ]
    }
   ],
   "source": [
    "def mv(f,numb_iter,a,b):\n",
    "    conv = []\n",
    "    for i in range(numb_iter):\n",
    "        x = np.random.uniform(a, b)\n",
    "        conv.append(f(x))\n",
    "    return (b-a)*np.sum(conv)/numb_iter, (b-a)*np.std(conv)/math.sqrt(numb_iter)\n",
    "\n",
    "I, error = mv(f,10000,0,2)\n",
    "print(\"The value of the integral is: \", I)\n",
    "print(\"The error of the computatio is: \", error)"
   ]
  },
  {
   "cell_type": "markdown",
   "metadata": {},
   "source": [
    "4\\. **Monte Carlo integration in high dimension**\n",
    "\n",
    "* Start of by computing the area of a circle of unit radius, by integrating the function \n",
    "\n",
    "$$\n",
    "f(x,y)=\n",
    "\\left\\{\n",
    "\\begin{array}{ll}\n",
    "      1 & x^2+y^2\\le 1 \\\\\n",
    "      0 & {\\rm elsewhere}\n",
    "\\end{array} \n",
    "\\right.\n",
    "$$\n",
    "\n",
    "* Generalize the result for a 10D sphere\n",
    "\n"
   ]
  },
  {
   "cell_type": "code",
   "execution_count": 6,
   "metadata": {},
   "outputs": [
    {
     "name": "stdout",
     "output_type": "stream",
     "text": [
      "The value of the integral is:  3.151307104010078\n"
     ]
    }
   ],
   "source": [
    "# Ex. 4.\n",
    "\n",
    "def y(x):\n",
    "    return np.sqrt(1-(x**2))\n",
    "\n",
    "def mv(f,numb_iter,a,b):\n",
    "    conv = []\n",
    "    for i in range(numb_iter):\n",
    "        x = np.random.uniform(a, b)\n",
    "        conv.append(f(x))\n",
    "    return 4*(b-a)*np.sum(conv)/numb_iter\n",
    "\n",
    "I = mv(y,10000,0,1)\n",
    "print(\"The value of the integral is: \", I)"
   ]
  },
  {
   "cell_type": "code",
   "execution_count": 7,
   "metadata": {},
   "outputs": [
    {
     "name": "stdout",
     "output_type": "stream",
     "text": [
      "The value of the integral is:  2.56\n"
     ]
    }
   ],
   "source": [
    "def f(x):\n",
    "    a = sum(i**2 for i in x)\n",
    "    if a <=1: \n",
    "        return 1\n",
    "    else: \n",
    "        return 0\n",
    "\n",
    "numb_iter = 1000000\n",
    "iteration = 0\n",
    "\n",
    "for i in range(numb_iter):\n",
    "    x = np.random.uniform(-1,1,10)\n",
    "    if f(x)==1: \n",
    "        iteration += 1\n",
    "\n",
    "print(\"The value of the integral is: \", (2**10)*iteration/numb_iter)"
   ]
  },
  {
   "cell_type": "markdown",
   "metadata": {},
   "source": [
    "5\\. **Monte Carlo integration with importance sampling** \n",
    "\n",
    "Calculate the value of the integral:\n",
    "\n",
    "$$\n",
    "I=\\int_0^1 \\frac{x^{-1/2}}{e^x+1} dx\n",
    "$$\n",
    "\n",
    "using the importance sampling method with $w(x)=1/\\sqrt{x}$. You should get a result about 0.84"
   ]
  },
  {
   "cell_type": "code",
   "execution_count": 8,
   "metadata": {},
   "outputs": [
    {
     "name": "stdout",
     "output_type": "stream",
     "text": [
      "The value of the integral is:  958383.7423277976\n"
     ]
    }
   ],
   "source": [
    "# Ex. 5.\n",
    "\n",
    "def w(x):\n",
    "    return 1/np.sqrt(x)\n",
    "\n",
    "def f(x):\n",
    "    return 1/(np.sqrt(x)*(np.exp(x)+1))\n",
    "\n",
    "def imp_samp(numb_int,a,b):\n",
    "    x = np.random.uniform(a, b,numb_int)\n",
    "    return np.sum(f(x*x*0.25)/w(x*x*0.25)) * 2.0\n",
    "\n",
    "print(\"The value of the integral is: \", imp_samp(1000000,0,1.0))"
   ]
  },
  {
   "cell_type": "code",
   "execution_count": null,
   "metadata": {},
   "outputs": [],
   "source": []
  }
 ],
 "metadata": {
  "kernelspec": {
   "display_name": "Python 3",
   "language": "python",
   "name": "python3"
  },
  "language_info": {
   "codemirror_mode": {
    "name": "ipython",
    "version": 3
   },
   "file_extension": ".py",
   "mimetype": "text/x-python",
   "name": "python",
   "nbconvert_exporter": "python",
   "pygments_lexer": "ipython3",
   "version": "3.7.4"
  }
 },
 "nbformat": 4,
 "nbformat_minor": 2
}
