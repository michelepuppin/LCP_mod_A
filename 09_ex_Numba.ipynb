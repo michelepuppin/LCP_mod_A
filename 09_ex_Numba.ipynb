{
 "cells": [
  {
   "cell_type": "markdown",
   "metadata": {},
   "source": [
    "## Exercise 1\n",
    "\n",
    "Create a vectorized version of log and exp math function for 1D array A = [2, 5, 10, 3, 8]\n",
    "\n",
    "Results should be: \n",
    "+ [0.6931472 1.609438  2.3025851 1.0986123 2.0794415]\n",
    "+ [7.3890562e+00 1.4841316e+02 2.2026465e+04 2.0085537e+01 2.9809580e+03]"
   ]
  },
  {
   "cell_type": "code",
   "execution_count": 1,
   "metadata": {},
   "outputs": [
    {
     "name": "stdout",
     "output_type": "stream",
     "text": [
      "Vectorized Log: [0.6931472 1.609438  2.3025851 1.0986123 2.0794415]\n",
      "Vectorized Exp: [7.3890562e+00 1.4841316e+02 2.2026465e+04 2.0085537e+01 2.9809580e+03]\n"
     ]
    }
   ],
   "source": [
    "# Ex. 1.\n",
    "\n",
    "import os\n",
    "import numpy as np\n",
    "import math\n",
    "os.environ[\"NUMBA_ENABLE_CUDASIM\"] = \"1\"\n",
    "from numba import jit, njit, vectorize, cuda, float32\n",
    "\n",
    "A = np.array([2, 5, 10, 3, 8], dtype='float32')\n",
    "\n",
    "@vectorize([float32(float32)], target='parallel', fastmath=True)\n",
    "def vec_log(x):\n",
    "    return math.log(x)\n",
    "\n",
    "@vectorize([float32(float32)], target='parallel', fastmath=True)\n",
    "def vec_exp(x):\n",
    "    return math.exp(x)\n",
    "\n",
    "print(\"Vectorized Log:\", vec_log(A))\n",
    "print(\"Vectorized Exp:\", vec_exp(A))"
   ]
  },
  {
   "cell_type": "markdown",
   "metadata": {},
   "source": [
    "## Exerice 2\n",
    "Compute the value of a Gaussian probability density function at $x$ with $mean = 1$, $\\sigma = 1$, lower and upper bound in $(-3, 3)$ and $size = 100000$"
   ]
  },
  {
   "cell_type": "code",
   "execution_count": 2,
   "metadata": {},
   "outputs": [
    {
     "data": {
      "text/plain": [
       "array([0.00033546, 0.00033554, 0.00033562, ..., 0.13536775, 0.13535155,\n",
       "       0.13533528], dtype=float32)"
      ]
     },
     "execution_count": 2,
     "metadata": {},
     "output_type": "execute_result"
    }
   ],
   "source": [
    "# Ex. 2.\n",
    "\n",
    "@vectorize([float32(float32)], target='parallel', fastmath=True)\n",
    "def gaussian_pdf(x):\n",
    "    mu  = 1\n",
    "    sig = 1\n",
    "    return math.exp(-(((x-mu)/sig)**2)/2)\n",
    "\n",
    "size = 100000\n",
    "x = np.linspace(-3, 3, size, dtype='float32')\n",
    "gaussian_pdf(x)"
   ]
  },
  {
   "cell_type": "markdown",
   "metadata": {},
   "source": [
    "## Exercise 3\n",
    "\n",
    "Create a \"zero suppression\" function. A common operation when working with waveforms is to force all samples values below a certain absolute magnitude to be zero, as a way to eliminate low amplitude noise. \n",
    "Plot the data before and after the application of the zero_suppress function.\n",
    "\n",
    "$thresold = 15$"
   ]
  },
  {
   "cell_type": "code",
   "execution_count": 3,
   "metadata": {},
   "outputs": [
    {
     "data": {
      "image/png": "[encoded data removed]",
      "text/plain": [
       "<Figure size 432x288 with 1 Axes>"
      ]
     },
     "metadata": {
      "needs_background": "light"
     },
     "output_type": "display_data"
    },
    {
     "data": {
      "image/png": "[encoded data removed]",
      "text/plain": [
       "<Figure size 432x288 with 1 Axes>"
      ]
     },
     "metadata": {
      "needs_background": "light"
     },
     "output_type": "display_data"
    }
   ],
   "source": [
    "# Ex. 3.\n",
    "\n",
    "%matplotlib inline\n",
    "from matplotlib import pyplot as plt\n",
    "\n",
    "n = 100000\n",
    "noise = np.random.normal(size=n) * 3\n",
    "pulses = np.maximum(np.sin(np.arange(n) / (n / 23)) - 0.3, 0.0)\n",
    "data = ((pulses * 300) + noise).astype(np.int16)\n",
    "\n",
    "@jit\n",
    "def zero_suppression(x, threshold):\n",
    "    for i in range(len(x)):\n",
    "        if x[i] < threshold : x[i] = 0\n",
    "    return x\n",
    "\n",
    "plt.plot(data)\n",
    "plt.show()\n",
    "\n",
    "plt.plot(zero_suppression(data, 15))\n",
    "plt.show()"
   ]
  },
  {
   "cell_type": "markdown",
   "metadata": {},
   "source": [
    "## Exercise 4\n",
    "\n",
    "Calculate the Sigmoid kernel between the matrix X and Y defined as below. The Sigmoid kernel is defined as:\n",
    "\n",
    "$k(x,y) = \\tanh(\\alpha x^T y + c) $"
   ]
  },
  {
   "cell_type": "code",
   "execution_count": 4,
   "metadata": {},
   "outputs": [
    {
     "name": "stdout",
     "output_type": "stream",
     "text": [
      "[[0.8020206  0.7605645  0.92026937]\n",
      " [0.6535577  0.77741355 0.7549027 ]\n",
      " [0.46947205 0.6145157  0.45018527]]\n"
     ]
    }
   ],
   "source": [
    "# Ex. 4.\n",
    "\n",
    "import math\n",
    "\n",
    "x = np.random.rand(3,3).astype('float32')\n",
    "y = np.random.rand(3,3).astype('float32')\n",
    "res = np.zeros((3,3), dtype='float32')\n",
    "\n",
    "alpha = 1.\n",
    "c = 0.\n",
    "\n",
    "@cuda.jit\n",
    "def sigmoid_kernel(x, y, result, alpha, c):    \n",
    "    row, col = cuda.grid(2)\n",
    "    \n",
    "    if row < result.shape[0] and col < result.shape[1]:\n",
    "        tmp = 0.\n",
    "        for k in range(x.shape[0]):\n",
    "            tmp += x[k, row] * y[k, col]\n",
    "        \n",
    "        result[row, col] = math.tanh(alpha * tmp + c)\n",
    "    \n",
    "sigmoid_kernel[(1,1), (3,3)](x, y, res, alpha, c)\n",
    "\n",
    "print(res)"
   ]
  },
  {
   "cell_type": "markdown",
   "metadata": {},
   "source": [
    "## Exercise 5\n",
    "\n",
    "Create a kernel function similar to the ```double_kernel``` see during the lecture and create a new function that takes a 3 dimensional matrix as input calculating the $cos$ for each element and then returns the result. The shape of the matrix must be $256X256X256$. The matrix can be randomly generated"
   ]
  },
  {
   "cell_type": "code",
   "execution_count": 5,
   "metadata": {},
   "outputs": [],
   "source": [
    "# Ex. 5.\n",
    "\n",
    "from numba import cuda\n",
    "\n",
    "@cuda.jit\n",
    "def double_kernel(k):\n",
    "    x, y, z = cuda.grid(3)\n",
    "    if x < k.shape[0] and y < k.shape[1] and z < k.shape[2]:\n",
    "        k[x][y][z] = math.cos(k[x][y][z])\n",
    "\n",
    "data = np.random.normal(size=(256,256,256))\n",
    "\n",
    "threadsperblock = (16, 16)\n",
    "blockspergrid = (int(data.shape[0] / threadsperblock[0]), int(data.shape[1] / threadsperblock[1]))\n",
    "\n",
    "double_kernel[blockspergrid, threadsperblock](data)"
   ]
  },
  {
   "cell_type": "markdown",
   "metadata": {},
   "source": [
    "## Exercise 6\n",
    "\n",
    "Create a matrix multiplication kernel function, called ```matmul``` that takes as input two 2D matrices:\n",
    "+ A of shape $24x12$\n",
    "+ B of shape $12x22$\n",
    "and that computes the multiplication and put the results into a third matrix C of shape $24x12$\n",
    "\n",
    "A and B must be randomly generated and only int values are allowed.\n"
   ]
  },
  {
   "cell_type": "code",
   "execution_count": 6,
   "metadata": {},
   "outputs": [],
   "source": [
    "# Ex. 6.\n",
    "\n",
    "from __future__ import division\n",
    "from numba import cuda\n",
    "\n",
    "@cuda.jit\n",
    "def matmul(A, B, C):\n",
    "    x, y = cuda.grid(2)\n",
    "    if (x < C.shape[0] and y < C.shape[1]):\n",
    "        count = 0.\n",
    "        for k in range(A.shape[1]):\n",
    "            count += A[x,k]*B[k,y]\n",
    "        C[x,y] = count\n",
    "\n",
    "A = np.random.randint(100, size=(24,12))\n",
    "B = np.random.randint(100, size=(12,22))\n",
    "C = np.zeros((24,22))\n",
    "\n",
    "threadsperblock = (24, 22)\n",
    "blockspergrid = (1, 1)\n",
    "\n",
    "matmul[blockspergrid, threadsperblock](A, B, C)"
   ]
  }
 ],
 "metadata": {
  "kernelspec": {
   "display_name": "Python 3",
   "language": "python",
   "name": "python3"
  },
  "language_info": {
   "codemirror_mode": {
    "name": "ipython",
    "version": 3
   },
   "file_extension": ".py",
   "mimetype": "text/x-python",
   "name": "python",
   "nbconvert_exporter": "python",
   "pygments_lexer": "ipython3",
   "version": "3.7.4"
  }
 },
 "nbformat": 4,
 "nbformat_minor": 2
}
